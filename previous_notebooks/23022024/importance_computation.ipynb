{
 "cells": [
  {
   "cell_type": "code",
   "execution_count": 6,
   "id": "04fbe6e0-f81d-4c43-aeaf-28bd72d448a4",
   "metadata": {},
   "outputs": [
    {
     "name": "stdout",
     "output_type": "stream",
     "text": [
      "The autoreload extension is already loaded. To reload it, use:\n",
      "  %reload_ext autoreload\n"
     ]
    }
   ],
   "source": [
    "%load_ext autoreload\n",
    "%autoreload 2"
   ]
  },
  {
   "cell_type": "code",
   "execution_count": 2,
   "id": "93d3ea03-fcfc-4c9c-ae03-17ce77cb959e",
   "metadata": {},
   "outputs": [],
   "source": [
    "import sys\n",
    "sys.path.append(\"../LLM-Pruner/\")"
   ]
  },
  {
   "cell_type": "code",
   "execution_count": 3,
   "id": "e7a4a243-0c92-4250-9090-c204569f8b6a",
   "metadata": {},
   "outputs": [
    {
     "name": "stderr",
     "output_type": "stream",
     "text": [
      "/home/daniel/miniconda3/lib/python3.11/site-packages/tqdm/auto.py:21: TqdmWarning: IProgress not found. Please update jupyter and ipywidgets. See https://ipywidgets.readthedocs.io/en/stable/user_install.html\n",
      "  from .autonotebook import tqdm as notebook_tqdm\n"
     ]
    }
   ],
   "source": [
    "import torch\n",
    "from transformers import AutoModelForCausalLM, AutoTokenizer\n",
    "import itertools\n",
    "import pandas as pd"
   ]
  },
  {
   "cell_type": "markdown",
   "id": "63aa1da2-db74-490d-ae43-0160cfd23315",
   "metadata": {},
   "source": [
    "## True data setup"
   ]
  },
  {
   "cell_type": "code",
   "execution_count": 8,
   "id": "83671a26-0500-4108-a580-fa8d8c1ee433",
   "metadata": {},
   "outputs": [],
   "source": [
    "from download_data import fetch_data"
   ]
  },
  {
   "cell_type": "code",
   "execution_count": 10,
   "id": "bdcddf08-cd9e-49a7-befa-83ae945350d1",
   "metadata": {},
   "outputs": [],
   "source": [
    "# fetch_data()"
   ]
  },
  {
   "cell_type": "code",
   "execution_count": 2,
   "id": "59281c60-c5ca-4ca2-a9fe-ba74be9e6c23",
   "metadata": {},
   "outputs": [
    {
     "name": "stderr",
     "output_type": "stream",
     "text": [
      "/home/daniel/miniconda3/lib/python3.11/site-packages/tqdm/auto.py:21: TqdmWarning: IProgress not found. Please update jupyter and ipywidgets. See https://ipywidgets.readthedocs.io/en/stable/user_install.html\n",
      "  from .autonotebook import tqdm as notebook_tqdm\n"
     ]
    }
   ],
   "source": [
    "from token_info import TokenInfo"
   ]
  },
  {
   "cell_type": "code",
   "execution_count": 3,
   "id": "78e1c6f9-7efc-4c73-9ff4-edb8acd0dd65",
   "metadata": {},
   "outputs": [
    {
     "name": "stdout",
     "output_type": "stream",
     "text": [
      "...Loading dataset...\n"
     ]
    },
    {
     "ename": "FileNotFoundError",
     "evalue": "[Errno 2] No such file or directory: 'dataset_tokenized.pkl'",
     "output_type": "error",
     "traceback": [
      "\u001b[0;31m---------------------------------------------------------------------------\u001b[0m",
      "\u001b[0;31mFileNotFoundError\u001b[0m                         Traceback (most recent call last)",
      "Cell \u001b[0;32mIn[3], line 1\u001b[0m\n\u001b[0;32m----> 1\u001b[0m token_info \u001b[38;5;241m=\u001b[39m \u001b[43mTokenInfo\u001b[49m\u001b[43m(\u001b[49m\u001b[43m)\u001b[49m\n",
      "File \u001b[0;32m~/cs229-project/token_info.py:12\u001b[0m, in \u001b[0;36mTokenInfo.__init__\u001b[0;34m(self)\u001b[0m\n\u001b[1;32m     10\u001b[0m \u001b[38;5;28;01mdef\u001b[39;00m \u001b[38;5;21m__init__\u001b[39m(\u001b[38;5;28mself\u001b[39m):        \n\u001b[1;32m     11\u001b[0m     \u001b[38;5;28mprint\u001b[39m(\u001b[38;5;124m'\u001b[39m\u001b[38;5;124m...Loading dataset...\u001b[39m\u001b[38;5;124m'\u001b[39m)\n\u001b[0;32m---> 12\u001b[0m     \u001b[38;5;28;01mwith\u001b[39;00m \u001b[38;5;28;43mopen\u001b[39;49m\u001b[43m(\u001b[49m\u001b[38;5;124;43m\"\u001b[39;49m\u001b[38;5;124;43mdataset_tokenized.pkl\u001b[39;49m\u001b[38;5;124;43m\"\u001b[39;49m\u001b[43m,\u001b[49m\u001b[43m \u001b[49m\u001b[38;5;124;43m\"\u001b[39;49m\u001b[38;5;124;43mrb\u001b[39;49m\u001b[38;5;124;43m\"\u001b[39;49m\u001b[43m)\u001b[49m \u001b[38;5;28;01mas\u001b[39;00m f:\n\u001b[1;32m     13\u001b[0m         \u001b[38;5;28mself\u001b[39m\u001b[38;5;241m.\u001b[39mdataset_tokenized \u001b[38;5;241m=\u001b[39m pickle\u001b[38;5;241m.\u001b[39mload(f)\n\u001b[1;32m     15\u001b[0m     \u001b[38;5;28;01mwith\u001b[39;00m \u001b[38;5;28mopen\u001b[39m(\u001b[38;5;124m\"\u001b[39m\u001b[38;5;124mtoken_row_map.pkl\u001b[39m\u001b[38;5;124m\"\u001b[39m, \u001b[38;5;124m\"\u001b[39m\u001b[38;5;124mrb\u001b[39m\u001b[38;5;124m\"\u001b[39m) \u001b[38;5;28;01mas\u001b[39;00m f:\n",
      "\u001b[0;31mFileNotFoundError\u001b[0m: [Errno 2] No such file or directory: 'dataset_tokenized.pkl'"
     ]
    }
   ],
   "source": [
    "token_info = TokenInfo()"
   ]
  },
  {
   "cell_type": "code",
   "execution_count": null,
   "id": "cd290dfe-2f9c-4e5c-894a-0391cedfa38e",
   "metadata": {},
   "outputs": [],
   "source": [
    "top_tokens = token_info.top_n(10_000)"
   ]
  },
  {
   "cell_type": "code",
   "execution_count": null,
   "id": "28a079ee-c5d9-4985-b974-b6e02ce1c4bd",
   "metadata": {},
   "outputs": [
    {
     "data": {
      "text/plain": [
       "(13, '.', 3932482)"
      ]
     },
     "execution_count": 9,
     "metadata": {},
     "output_type": "execute_result"
    }
   ],
   "source": [
    "top_tokens[0]"
   ]
  },
  {
   "cell_type": "markdown",
   "id": "d2485f0e-a34a-4272-b8e1-e726781a09cf",
   "metadata": {},
   "source": [
    "## Model and Tokenizer Setup"
   ]
  },
  {
   "cell_type": "code",
   "execution_count": 4,
   "id": "1672e217-f6ee-47f8-a8b8-82c33b061d95",
   "metadata": {},
   "outputs": [],
   "source": [
    "model_id = \"microsoft/phi-1_5\"\n",
    "model_revision = \"349cf8b5e81fd5f791d1740da5de1313a0419bbd\" # latest as of feb 1st"
   ]
  },
  {
   "cell_type": "code",
   "execution_count": 5,
   "id": "36d07245-c822-41b4-bf35-f902ec3fa607",
   "metadata": {},
   "outputs": [],
   "source": [
    "tokenizer = AutoTokenizer.from_pretrained(model_id, trust_remote_code=True)"
   ]
  },
  {
   "cell_type": "code",
   "execution_count": 11,
   "id": "e1863cef-0ad1-4f69-b271-fe4078d72b96",
   "metadata": {},
   "outputs": [
    {
     "data": {
      "text/plain": [
       "50295"
      ]
     },
     "execution_count": 11,
     "metadata": {},
     "output_type": "execute_result"
    }
   ],
   "source": [
    "vocab = tokenizer.get_vocab()\n",
    "len(vocab)"
   ]
  },
  {
   "cell_type": "code",
   "execution_count": null,
   "id": "c84c1034-6a3e-4cf0-a4af-5c7754ccfb42",
   "metadata": {},
   "outputs": [],
   "source": [
    "# tokenizer.decode(token_info.get_prefixes(top_tokens[1000][0], 9, 10)[0])"
   ]
  },
  {
   "cell_type": "code",
   "execution_count": 6,
   "id": "d8531b75-5a93-438c-8b70-b36fab79b4d1",
   "metadata": {},
   "outputs": [
    {
     "name": "stderr",
     "output_type": "stream",
     "text": [
      "/home/daniel/miniconda3/lib/python3.11/site-packages/torch/_utils.py:831: UserWarning: TypedStorage is deprecated. It will be removed in the future and UntypedStorage will be the only storage class. This should only matter to you if you are using storages directly.  To access UntypedStorage directly, use tensor.untyped_storage() instead of tensor.storage()\n",
      "  return self.fget.__get__(instance, owner)()\n"
     ]
    }
   ],
   "source": [
    "model = AutoModelForCausalLM.from_pretrained(\n",
    "    model_id,\n",
    "    revision=model_revision,\n",
    "    trust_remote_code=True,\n",
    "    # be careful with this?\n",
    "    torch_dtype=torch.float16,\n",
    "    # attn_implementation=\"flash_attention_2\",\n",
    ")"
   ]
  },
  {
   "cell_type": "code",
   "execution_count": 15,
   "id": "12f82afc-4008-4d50-9069-2acd613db34e",
   "metadata": {},
   "outputs": [
    {
     "data": {
      "text/plain": [
       "PhiForCausalLM(\n",
       "  (model): PhiModel(\n",
       "    (embed_tokens): Embedding(51200, 2048)\n",
       "    (embed_dropout): Dropout(p=0.0, inplace=False)\n",
       "    (layers): ModuleList(\n",
       "      (0-23): 24 x PhiDecoderLayer(\n",
       "        (self_attn): PhiAttention(\n",
       "          (q_proj): Linear(in_features=2048, out_features=2048, bias=True)\n",
       "          (k_proj): Linear(in_features=2048, out_features=2048, bias=True)\n",
       "          (v_proj): Linear(in_features=2048, out_features=2048, bias=True)\n",
       "          (dense): Linear(in_features=2048, out_features=2048, bias=True)\n",
       "          (rotary_emb): PhiRotaryEmbedding()\n",
       "        )\n",
       "        (mlp): PhiMLP(\n",
       "          (activation_fn): NewGELUActivation()\n",
       "          (fc1): Linear(in_features=2048, out_features=8192, bias=True)\n",
       "          (fc2): Linear(in_features=8192, out_features=2048, bias=True)\n",
       "        )\n",
       "        (input_layernorm): LayerNorm((2048,), eps=1e-05, elementwise_affine=True)\n",
       "        (resid_dropout): Dropout(p=0.0, inplace=False)\n",
       "      )\n",
       "    )\n",
       "    (final_layernorm): LayerNorm((2048,), eps=1e-05, elementwise_affine=True)\n",
       "  )\n",
       "  (lm_head): Linear(in_features=2048, out_features=51200, bias=True)\n",
       ")"
      ]
     },
     "execution_count": 15,
     "metadata": {},
     "output_type": "execute_result"
    }
   ],
   "source": [
    "model"
   ]
  },
  {
   "cell_type": "markdown",
   "id": "a24eaf03-2532-4889-8453-ea7e967f6849",
   "metadata": {},
   "source": [
    "## Dataset"
   ]
  },
  {
   "cell_type": "code",
   "execution_count": 16,
   "id": "d57316ae-a64e-4b09-9185-dd76066a87d1",
   "metadata": {},
   "outputs": [
    {
     "ename": "ModuleNotFoundError",
     "evalue": "No module named 'LLMPruner'",
     "output_type": "error",
     "traceback": [
      "\u001b[0;31m---------------------------------------------------------------------------\u001b[0m",
      "\u001b[0;31mModuleNotFoundError\u001b[0m                       Traceback (most recent call last)",
      "Cell \u001b[0;32mIn[16], line 1\u001b[0m\n\u001b[0;32m----> 1\u001b[0m \u001b[38;5;28;01mfrom\u001b[39;00m \u001b[38;5;21;01mLLMPruner\u001b[39;00m\u001b[38;5;21;01m.\u001b[39;00m\u001b[38;5;21;01mdatasets\u001b[39;00m\u001b[38;5;21;01m.\u001b[39;00m\u001b[38;5;21;01mexample_samples\u001b[39;00m \u001b[38;5;28;01mimport\u001b[39;00m get_examples\n",
      "\u001b[0;31mModuleNotFoundError\u001b[0m: No module named 'LLMPruner'"
     ]
    }
   ],
   "source": [
    "from LLMPruner.datasets.example_samples import get_examples"
   ]
  },
  {
   "cell_type": "code",
   "execution_count": null,
   "id": "6423cbb4-d521-4e9e-95e7-0d4bc0d36a1e",
   "metadata": {},
   "outputs": [],
   "source": [
    "# examples = get_examples(\"bookcorpus\", tokenizer, n_samples=10)\n",
    "# pd.to_pickle(examples.cpu(), \"./examples.pkl\")\n",
    "examples = pd.read_pickle(\"./examples.pkl\")"
   ]
  },
  {
   "cell_type": "code",
   "execution_count": null,
   "id": "c2ef80b8-30bd-4628-a631-51a692c662db",
   "metadata": {},
   "outputs": [
    {
     "data": {
      "text/plain": [
       "tensor([[ 8182,   479,   672,  ...,   287, 10905,   306],\n",
       "        [12284,   284,   766,  ...,  1257,   618,   673],\n",
       "        [ 1058,   257,   380,  ...,   613,  6051,   837],\n",
       "        ...,\n",
       "        [  988,   290, 32627,  ...,   329,   262,  9546],\n",
       "        [ 4868,   584,  3835,  ...,   279,  2518,    78],\n",
       "        [ 7091,   714,  5368,  ...,   674, 15876,  1267]])"
      ]
     },
     "execution_count": 18,
     "metadata": {},
     "output_type": "execute_result"
    }
   ],
   "source": [
    "examples"
   ]
  },
  {
   "cell_type": "code",
   "execution_count": null,
   "id": "7e00f293-f989-4699-98af-b61dc38142bd",
   "metadata": {},
   "outputs": [],
   "source": [
    "examples = examples[:, :9]"
   ]
  },
  {
   "cell_type": "code",
   "execution_count": null,
   "id": "427e6d60-c97c-46e7-86f6-334270e381a8",
   "metadata": {},
   "outputs": [],
   "source": [
    "examples = examples.cuda()"
   ]
  },
  {
   "cell_type": "code",
   "execution_count": null,
   "id": "df1bd19c-d5eb-4480-84b4-8efea5153932",
   "metadata": {},
   "outputs": [
    {
     "data": {
      "text/plain": [
       "', escaped 2/46, dunblane'"
      ]
     },
     "execution_count": 21,
     "metadata": {},
     "output_type": "execute_result"
    }
   ],
   "source": [
    "tokenizer.decode(examples[3])"
   ]
  },
  {
   "cell_type": "markdown",
   "id": "1d26b047-8246-40a3-9b5b-0efab5303772",
   "metadata": {},
   "source": [
    "## Model importance computation"
   ]
  },
  {
   "cell_type": "code",
   "execution_count": 7,
   "id": "08868941-d331-415f-92d0-19c8e0e2cc95",
   "metadata": {},
   "outputs": [],
   "source": [
    "def get_mlps(model):\n",
    "    layers = model.get_submodule(\"model\").get_submodule(\"layers\")\n",
    "    return [layer.get_submodule(\"mlp\") for layer in layers]"
   ]
  },
  {
   "cell_type": "code",
   "execution_count": 8,
   "id": "52481e99-7682-484d-a887-62308f440d82",
   "metadata": {},
   "outputs": [],
   "source": [
    "def custom_loss(logits, labels, model):\n",
    "    # Returns crossentropy loss per token, w/o reduction\n",
    "    \n",
    "    # Shift so that tokens < n predict n\n",
    "    shift_logits = logits[..., :-1, :].contiguous()\n",
    "    shift_labels = labels[..., 1:].contiguous()\n",
    "    orig_shape = shift_labels.shape\n",
    "    # Flatten the tokens\n",
    "    loss_fct = torch.nn.CrossEntropyLoss(reduction='none')\n",
    "    shift_logits = shift_logits.view(-1, model.config.vocab_size)\n",
    "    shift_labels = shift_labels.view(-1)\n",
    "    # Enable model parallelism\n",
    "    shift_labels = shift_labels.to(shift_logits.device)\n",
    "    loss = loss_fct(shift_logits, shift_labels).view(orig_shape)\n",
    "    return loss"
   ]
  },
  {
   "cell_type": "code",
   "execution_count": null,
   "id": "cb61d747-e9ef-4501-8e15-d3a574bb512d",
   "metadata": {},
   "outputs": [],
   "source": [
    "def compute_acc_grad_2(model, examples, mlps):\n",
    "    # Computes the second term of the taylor expansion\n",
    "    params = [list(mlp.parameters()) for mlp in mlps]\n",
    "    params = itertools.chain.from_iterable(params) # flatten list\n",
    "    res = model(examples, labels=examples)\n",
    "    losses_tens = custom_loss(res.logits, examples, model)\n",
    "    losses = [loss.mean() for loss in losses_tens]\n",
    "    # import pdb; pdb.set_trace()\n",
    "    for example_loss in losses:\n",
    "        example_loss.backward(retain_graph=True)\n",
    "        for param in params: # for all the weights\n",
    "            num_examples = examples.shape[0]\n",
    "            with torch.no_grad():\n",
    "                grad = param.grad.detach()\n",
    "                sq_grad = grad * grad / num_examples\n",
    "                if hasattr(param, \"acc_grad\"):\n",
    "                    param.acc_grad += sq_grad\n",
    "                else:\n",
    "                    param.acc_grad = sq_grad\n",
    "        model.zero_grad()\n",
    "        del example_loss\n",
    "        torch.cuda.empty_cache()\n",
    "    return losses_tens"
   ]
  },
  {
   "cell_type": "code",
   "execution_count": null,
   "id": "20f0d974-9302-4dfe-8749-a8dc3d642dd3",
   "metadata": {},
   "outputs": [],
   "source": [
    "def compute_acc_grad(model, examples, mlps):\n",
    "    # Computes the second term of the taylor expansion\n",
    "    params = [list(mlp.parameters()) for mlp in mlps]\n",
    "    params = itertools.chain.from_iterable(params) # flatten list\n",
    "    \n",
    "    for example in examples:\n",
    "        example = example.unsqueeze(0)\n",
    "        # import pdb; pdb.set_trace()\n",
    "        loss = model(example, labels=example).loss\n",
    "        # import pdb; pdb.set_trace()\n",
    "        loss.backward()\n",
    "        for param in params: # for all the weights\n",
    "            num_examples = examples.shape[0]\n",
    "            with torch.no_grad():\n",
    "                grad = param.grad.detach()\n",
    "                sq_grad = grad * grad / num_examples\n",
    "                if hasattr(param, \"acc_grad\"):\n",
    "                    param.acc_grad += sq_grad\n",
    "                else:\n",
    "                    param.acc_grad = sq_grad\n",
    "        model.zero_grad()\n",
    "        del loss\n",
    "        torch.cuda.empty_cache()"
   ]
  },
  {
   "cell_type": "code",
   "execution_count": null,
   "id": "3a0059ca-b3e3-4068-949d-a25810978f8d",
   "metadata": {},
   "outputs": [],
   "source": [
    "@torch.no_grad()\n",
    "def compute_mlp_importance(mlps):\n",
    "    # computes importance for hidden layers of MLP\n",
    "    importances = []\n",
    "    for mlp in mlps:\n",
    "        fc1 = mlp.fc1\n",
    "        fc2 = mlp.fc2\n",
    "        # compute importance of inputs to hidden\n",
    "        salience_w1 = fc1.weight * fc1.weight.grad\n",
    "        salience_w2 = fc2.weight * fc2.weight.grad\n",
    "        \n",
    "        salience_w1 = salience_w1 - 0.5 * fc1.weight * fc1.weight.acc_grad * fc1.weight\n",
    "        salience_w2 = salience_w2 - 0.5 * fc2.weight * fc2.weight.acc_grad * fc2.weight\n",
    "\n",
    "        importance_w1_component =  salience_w1.abs().sum(dim=1)\n",
    "        importance_w2_component =  salience_w2.abs().sum(dim=0)\n",
    "\n",
    "        # analogous to group reduction?\n",
    "        importance = importance_w1_component + importance_w2_component\n",
    "        importances.append(importance.detach().cpu())\n",
    "    return importances"
   ]
  },
  {
   "cell_type": "code",
   "execution_count": null,
   "id": "346e0f34-2a0d-4794-ab5e-4647ce599c4d",
   "metadata": {},
   "outputs": [],
   "source": [
    "def compute_importances(model, examples, use_fast=False):\n",
    "    # start = time()\n",
    "    # returns importance for mlp examples\n",
    "    mlps = get_mlps(model)\n",
    "    mlps = [mlps[0], mlps[len(mlps)//2], mlps[-1]]\n",
    "    # torch.cuda.synchronize()\n",
    "    # start_2 = time()\n",
    "    if use_fast:\n",
    "        loss = compute_acc_grad_2(model, examples, mlps) # estimates hessian term of importance\n",
    "    else:\n",
    "        compute_acc_grad(model, examples, mlps) # estimates hessian term of importance\n",
    "    torch.cuda.synchronize()\n",
    "    # end_2 = time()\n",
    "    # print(f\"compute acc grad: {end_2 - start_2}\")\n",
    "    # import pdb; pdb.set_trace()\n",
    "    if use_fast:\n",
    "        # print(\"using fast\")\n",
    "        loss = loss.mean()\n",
    "        loss.backward()\n",
    "    else:\n",
    "        loss = model(examples, labels=examples).loss\n",
    "        loss.backward()\n",
    "    importances = compute_mlp_importance(mlps)\n",
    "    # torch.cuda.synchronize()\n",
    "    # end = time()\n",
    "    # print(f\"compute ttl: {end - start}\")\n",
    "    return importances"
   ]
  },
  {
   "cell_type": "code",
   "execution_count": null,
   "id": "b8c1e68d-0727-4d50-a9d9-1c3b0807b9e7",
   "metadata": {},
   "outputs": [],
   "source": [
    "top_10k = token_info.top_n(10_000)"
   ]
  },
  {
   "cell_type": "code",
   "execution_count": null,
   "id": "0be17ea6-98a8-420f-87f1-9b8aa261bf0e",
   "metadata": {},
   "outputs": [
    {
     "data": {
      "text/plain": [
       "13"
      ]
     },
     "execution_count": 29,
     "metadata": {},
     "output_type": "execute_result"
    }
   ],
   "source": [
    "top_10k[0][0]"
   ]
  },
  {
   "cell_type": "code",
   "execution_count": null,
   "id": "3f230d22-425e-4d1c-bd1c-188c4dd21092",
   "metadata": {},
   "outputs": [],
   "source": [
    "from tqdm import tqdm"
   ]
  },
  {
   "cell_type": "code",
   "execution_count": null,
   "id": "195df54a-7d9e-4b11-9d54-3a8e80cd5c16",
   "metadata": {},
   "outputs": [],
   "source": [
    "examples = token_info.get_prefixes(top_10k[0][0], 10, 10)"
   ]
  },
  {
   "cell_type": "code",
   "execution_count": null,
   "id": "918c83b3-6cff-4af0-b992-a17f49d788bc",
   "metadata": {},
   "outputs": [
    {
     "data": {
      "text/plain": [
       "' a range of social, political, and literary activities.'"
      ]
     },
     "execution_count": 32,
     "metadata": {},
     "output_type": "execute_result"
    }
   ],
   "source": [
    "tokenizer.decode(examples[0])"
   ]
  },
  {
   "cell_type": "code",
   "execution_count": null,
   "id": "57592c11-dec0-4480-a0d6-4f7d492a3559",
   "metadata": {},
   "outputs": [],
   "source": [
    "importance_dict = {}"
   ]
  },
  {
   "cell_type": "code",
   "execution_count": null,
   "id": "6c61cbe7-1018-421b-8599-82eac718596d",
   "metadata": {},
   "outputs": [
    {
     "name": "stderr",
     "output_type": "stream",
     "text": [
      "5376it [1:20:10,  1.87s/it]"
     ]
    }
   ],
   "source": [
    "for i, t_info in tqdm(enumerate(top_10k)):\n",
    "    examples = token_info.get_prefixes(t_info[0], 10, 10)\n",
    "    examples = torch.tensor(examples, device=\"cuda:0\")\n",
    "    importances = compute_importances(model, examples, use_fast=True)\n",
    "    importance_dict[t_info] = importances\n",
    "    if (i+1) % 100 == 0:\n",
    "        pd.to_pickle(importance_dict, f\"importances/importance_{i}.pkl\")\n",
    "        del importance_dict\n",
    "        importance_dict = {}"
   ]
  },
  {
   "cell_type": "code",
   "execution_count": null,
   "id": "38c1c53b-fd10-4c9b-bf9f-f3a6c87d72c9",
   "metadata": {},
   "outputs": [],
   "source": []
  },
  {
   "cell_type": "markdown",
   "id": "fe9c5cba-ede1-4541-b537-5e937b1930a4",
   "metadata": {
    "jp-MarkdownHeadingCollapsed": true
   },
   "source": [
    "## Scratch code\n",
    "feel free to ignore"
   ]
  },
  {
   "cell_type": "code",
   "execution_count": 9,
   "id": "2939c75e-8000-444c-a708-b655d96dd7b4",
   "metadata": {},
   "outputs": [],
   "source": [
    "mlps = get_mlps(model)"
   ]
  },
  {
   "cell_type": "code",
   "execution_count": 34,
   "id": "eb302765-574a-4cbb-80c1-bcbd03bf99b7",
   "metadata": {},
   "outputs": [
    {
     "name": "stdout",
     "output_type": "stream",
     "text": [
      "torch.Size([8192, 2048])\n",
      "torch.Size([8192, 2048])\n",
      "torch.Size([8192, 2048])\n",
      "torch.Size([8192, 2048])\n",
      "torch.Size([8192, 2048])\n",
      "torch.Size([8192, 2048])\n",
      "torch.Size([8192, 2048])\n",
      "torch.Size([8192, 2048])\n",
      "torch.Size([8192, 2048])\n",
      "torch.Size([8192, 2048])\n",
      "torch.Size([8192, 2048])\n",
      "torch.Size([8192, 2048])\n",
      "torch.Size([8192, 2048])\n",
      "torch.Size([8192, 2048])\n",
      "torch.Size([8192, 2048])\n",
      "torch.Size([8192, 2048])\n",
      "torch.Size([8192, 2048])\n",
      "torch.Size([8192, 2048])\n",
      "torch.Size([8192, 2048])\n",
      "torch.Size([8192, 2048])\n",
      "torch.Size([8192, 2048])\n",
      "torch.Size([8192, 2048])\n",
      "torch.Size([8192, 2048])\n",
      "torch.Size([8192, 2048])\n"
     ]
    },
    {
     "data": {
      "text/plain": [
       "Parameter containing:\n",
       "tensor([[ 0.0114,  0.0332,  0.0078,  ..., -0.0405,  0.0556,  0.0304],\n",
       "        [-0.0914,  0.0074,  0.0013,  ..., -0.0017, -0.0214,  0.0265],\n",
       "        [ 0.0072,  0.0218, -0.0118,  ...,  0.0554, -0.0005,  0.0455],\n",
       "        ...,\n",
       "        [ 0.0269, -0.0411, -0.0190,  ...,  0.0100,  0.0140, -0.0545],\n",
       "        [-0.0105, -0.0187, -0.0126,  ..., -0.0448, -0.0164,  0.0052],\n",
       "        [-0.0128, -0.0186, -0.0025,  ...,  0.0057, -0.0007, -0.0217]],\n",
       "       dtype=torch.float16, requires_grad=True)"
      ]
     },
     "execution_count": 34,
     "metadata": {},
     "output_type": "execute_result"
    }
   ],
   "source": [
    "for mlp in mlps:\n",
    "    m1 = mlp.fc1.weight\n",
    "    m2 = mlp.fc2.weight\n",
    "    print(m1.shape)\n",
    "\n",
    "m1"
   ]
  },
  {
   "cell_type": "code",
   "execution_count": 10,
   "id": "c7c5e2bf-a139-42f9-ad72-e9948a8c6772",
   "metadata": {},
   "outputs": [],
   "source": [
    "import matplotlib.pyplot as plt\n",
    "\n",
    "mlp = mlps[0]\n",
    "\n",
    "m1 = mlp.fc1.weight.float()\n",
    "m2 = mlp.fc2.weight.float()\n",
    "\n",
    "\n",
    "U, S, Vt = torch.svd(m1)"
   ]
  },
  {
   "cell_type": "code",
   "execution_count": 20,
   "id": "ba914013-37b9-448c-9563-896c28a4b28f",
   "metadata": {},
   "outputs": [
    {
     "data": {
      "image/png": "[encoded data removed]",
      "text/plain": [
       "<Figure size 640x480 with 1 Axes>"
      ]
     },
     "metadata": {},
     "output_type": "display_data"
    }
   ],
   "source": [
    "plt.plot(S.cpu().detach().numpy(), linestyle='-', linewidth=3)  # Convert S to CPU and numpy format if it's on GPU or in tensor format\n",
    "plt.yscale('log')  # Set the y-axis to a logarithmic scale\n",
    "plt.xlabel('Index')  # Label for the x-axis\n",
    "plt.ylabel('Singular Value')  # Label for the y-axis\n",
    "# plt.title('Singular Values with Logarithmic Scale')  # Title of the plot\n",
    "plt.grid(True)#, which=\"both\", ls=\"--\")  # Add a grid for better readability, applicable to both linear and log scales\n",
    "plt.show()"
   ]
  },
  {
   "cell_type": "code",
   "execution_count": null,
   "id": "5bda2362-aa77-45f0-9c96-a50615a168cb",
   "metadata": {},
   "outputs": [],
   "source": []
  },
  {
   "cell_type": "code",
   "execution_count": null,
   "id": "49509e35-09ca-4dc3-93b8-88c9adbf1f4d",
   "metadata": {},
   "outputs": [],
   "source": [
    "importances = _"
   ]
  },
  {
   "cell_type": "code",
   "execution_count": null,
   "id": "e3cb1fd3-25dc-418e-a91c-220d54f98b0e",
   "metadata": {},
   "outputs": [
    {
     "data": {
      "text/plain": [
       "tensor([0.0172, 0.0293, 0.0263,  ..., 0.0334, 0.0138, 0.0241], device='cuda:0',\n",
       "       dtype=torch.float16)"
      ]
     },
     "execution_count": 29,
     "metadata": {},
     "output_type": "execute_result"
    }
   ],
   "source": [
    "importances[0]"
   ]
  },
  {
   "cell_type": "code",
   "execution_count": null,
   "id": "dac1ae55-e8e5-4764-9126-d7e6336d401a",
   "metadata": {},
   "outputs": [],
   "source": []
  },
  {
   "cell_type": "code",
   "execution_count": null,
   "id": "cbef887f-31c0-488b-ae38-1a5d0529ae67",
   "metadata": {},
   "outputs": [],
   "source": [
    "mlps = get_mlps(model)"
   ]
  },
  {
   "cell_type": "code",
   "execution_count": null,
   "id": "17ef68da-455e-4ac1-8d6c-3a8a8197e019",
   "metadata": {},
   "outputs": [],
   "source": []
  },
  {
   "cell_type": "code",
   "execution_count": null,
   "id": "1827885f-f629-4540-9d34-0b3342e79772",
   "metadata": {},
   "outputs": [
    {
     "data": {
      "text/plain": [
       "torch.Size([10, 128])"
      ]
     },
     "execution_count": 61,
     "metadata": {},
     "output_type": "execute_result"
    }
   ],
   "source": [
    "examples.shape"
   ]
  },
  {
   "cell_type": "code",
   "execution_count": null,
   "id": "5e99336a-4f79-4a75-966d-8df470c54fb3",
   "metadata": {},
   "outputs": [],
   "source": []
  },
  {
   "cell_type": "code",
   "execution_count": null,
   "id": "8532b5ba-1a25-4045-ae07-90fcd385a010",
   "metadata": {},
   "outputs": [],
   "source": []
  },
  {
   "cell_type": "code",
   "execution_count": null,
   "id": "eee1e597-15d6-477b-a60f-7c0179a8d245",
   "metadata": {},
   "outputs": [],
   "source": []
  },
  {
   "cell_type": "code",
   "execution_count": null,
   "id": "02d8cf29-abc7-483d-922d-73ef4a14c008",
   "metadata": {},
   "outputs": [],
   "source": [
    "mlps = get_mlps(model)"
   ]
  },
  {
   "cell_type": "code",
   "execution_count": null,
   "id": "ad1993c9-f143-4dad-bc53-852e8cb2c8a2",
   "metadata": {},
   "outputs": [],
   "source": [
    "mlp = mlps[0]"
   ]
  },
  {
   "cell_type": "code",
   "execution_count": null,
   "id": "d2f2da00-c9f8-4c92-821e-60f869e6aef4",
   "metadata": {},
   "outputs": [
    {
     "ename": "NameError",
     "evalue": "name 'mlp' is not defined",
     "output_type": "error",
     "traceback": [
      "\u001b[0;31m---------------------------------------------------------------------------\u001b[0m",
      "\u001b[0;31mNameError\u001b[0m                                 Traceback (most recent call last)",
      "Cell \u001b[0;32mIn[1], line 1\u001b[0m\n\u001b[0;32m----> 1\u001b[0m fc1 \u001b[38;5;241m=\u001b[39m \u001b[43mmlp\u001b[49m\u001b[38;5;241m.\u001b[39mget_submodule(\u001b[38;5;124m\"\u001b[39m\u001b[38;5;124mfc1\u001b[39m\u001b[38;5;124m\"\u001b[39m)\n\u001b[1;32m      2\u001b[0m fc2 \u001b[38;5;241m=\u001b[39m mlp\u001b[38;5;241m.\u001b[39mget_submodule(\u001b[38;5;124m\"\u001b[39m\u001b[38;5;124mfc2\u001b[39m\u001b[38;5;124m\"\u001b[39m)\n",
      "\u001b[0;31mNameError\u001b[0m: name 'mlp' is not defined"
     ]
    }
   ],
   "source": [
    "fc1 = mlp.get_submodule(\"fc1\")\n",
    "fc2 = mlp.get_submodule(\"fc2\")"
   ]
  },
  {
   "cell_type": "code",
   "execution_count": null,
   "id": "e07aa8d3-3582-4a81-bfdb-9ae978f7209f",
   "metadata": {},
   "outputs": [
    {
     "data": {
      "text/plain": [
       "Linear(in_features=2048, out_features=8192, bias=True)"
      ]
     },
     "execution_count": 38,
     "metadata": {},
     "output_type": "execute_result"
    }
   ],
   "source": [
    "fc1"
   ]
  },
  {
   "cell_type": "code",
   "execution_count": null,
   "id": "81f2d16c-065d-4aa2-a127-13d97905c1c7",
   "metadata": {},
   "outputs": [],
   "source": []
  },
  {
   "cell_type": "code",
   "execution_count": null,
   "id": "452f72e3-b57d-4ff2-a551-5b9b48b35f55",
   "metadata": {},
   "outputs": [],
   "source": [
    "def compute_importance(mlp):\n",
    "    pass"
   ]
  },
  {
   "cell_type": "code",
   "execution_count": null,
   "id": "c21a7a73-ecc5-4b2c-9fca-f4d4acd30830",
   "metadata": {},
   "outputs": [],
   "source": []
  },
  {
   "cell_type": "code",
   "execution_count": null,
   "id": "7d97fee8-ed90-47ec-8a4c-5d34a4bda165",
   "metadata": {},
   "outputs": [],
   "source": []
  },
  {
   "cell_type": "code",
   "execution_count": null,
   "id": "8c66cb9c-d540-459a-be49-15c0a03d9605",
   "metadata": {},
   "outputs": [],
   "source": [
    "modules = list(model.modules())"
   ]
  },
  {
   "cell_type": "code",
   "execution_count": null,
   "id": "98c7b3e8-4a3c-443e-a151-37bd0fe5c203",
   "metadata": {},
   "outputs": [],
   "source": [
    "x = model.get_submodule(\"model\").get_submodule(\"layers\")[0].get_submodule(\"mlp\").get_submodule(\"fc1\")"
   ]
  },
  {
   "cell_type": "code",
   "execution_count": null,
   "id": "3e4ecb25-2050-47f5-be1c-0ed662b9f30d",
   "metadata": {},
   "outputs": [
    {
     "data": {
      "text/plain": [
       "torch.Size([8192, 2048])"
      ]
     },
     "execution_count": 113,
     "metadata": {},
     "output_type": "execute_result"
    }
   ],
   "source": [
    "list(x.parameters())[0].grad.shape"
   ]
  },
  {
   "cell_type": "code",
   "execution_count": null,
   "id": "2e0b1e71-7611-4ad2-9a7b-ed6a120a9994",
   "metadata": {},
   "outputs": [],
   "source": []
  },
  {
   "cell_type": "code",
   "execution_count": null,
   "id": "7ca39dff-818e-49de-b27b-621c1a587c40",
   "metadata": {},
   "outputs": [],
   "source": []
  },
  {
   "cell_type": "code",
   "execution_count": null,
   "id": "f26cc2cd-7d85-4232-a24a-44f547c8ba85",
   "metadata": {},
   "outputs": [],
   "source": []
  }
 ],
 "metadata": {
  "kernelspec": {
   "display_name": "Python 3 (ipykernel)",
   "language": "python",
   "name": "python3"
  },
  "language_info": {
   "codemirror_mode": {
    "name": "ipython",
    "version": 3
   },
   "file_extension": ".py",
   "mimetype": "text/x-python",
   "name": "python",
   "nbconvert_exporter": "python",
   "pygments_lexer": "ipython3",
   "version": "3.11.7"
  }
 },
 "nbformat": 4,
 "nbformat_minor": 5
}

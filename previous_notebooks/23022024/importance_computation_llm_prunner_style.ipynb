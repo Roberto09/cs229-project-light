{
 "cells": [
  {
   "cell_type": "code",
   "execution_count": 1,
   "id": "04fbe6e0-f81d-4c43-aeaf-28bd72d448a4",
   "metadata": {},
   "outputs": [],
   "source": [
    "%load_ext autoreload\n",
    "%autoreload 2"
   ]
  },
  {
   "cell_type": "code",
   "execution_count": 2,
   "id": "93d3ea03-fcfc-4c9c-ae03-17ce77cb959e",
   "metadata": {},
   "outputs": [],
   "source": [
    "import sys\n",
    "sys.path.append(\"../LLM-Pruner/\")"
   ]
  },
  {
   "cell_type": "code",
   "execution_count": 3,
   "id": "e7a4a243-0c92-4250-9090-c204569f8b6a",
   "metadata": {},
   "outputs": [],
   "source": [
    "import torch\n",
    "from transformers import AutoModelForCausalLM, AutoTokenizer\n",
    "import itertools\n",
    "import pandas as pd\n",
    "import os"
   ]
  },
  {
   "cell_type": "code",
   "execution_count": 4,
   "id": "333e462c-bcee-49cb-b9e1-96b67e8d2b59",
   "metadata": {},
   "outputs": [],
   "source": [
    "os.environ[\"CUDA_VISIBLE_DEVICES\"] = \"1\""
   ]
  },
  {
   "cell_type": "markdown",
   "id": "d2485f0e-a34a-4272-b8e1-e726781a09cf",
   "metadata": {},
   "source": [
    "## Model and Tokenizer Setup"
   ]
  },
  {
   "cell_type": "code",
   "execution_count": 5,
   "id": "1672e217-f6ee-47f8-a8b8-82c33b061d95",
   "metadata": {},
   "outputs": [],
   "source": [
    "model_id = \"microsoft/phi-1_5\"\n",
    "model_revision = \"349cf8b5e81fd5f791d1740da5de1313a0419bbd\" # latest as of feb 1st"
   ]
  },
  {
   "cell_type": "code",
   "execution_count": 6,
   "id": "36d07245-c822-41b4-bf35-f902ec3fa607",
   "metadata": {},
   "outputs": [],
   "source": [
    "tokenizer = AutoTokenizer.from_pretrained(model_id, trust_remote_code=True)"
   ]
  },
  {
   "cell_type": "code",
   "execution_count": 7,
   "id": "e1863cef-0ad1-4f69-b271-fe4078d72b96",
   "metadata": {},
   "outputs": [
    {
     "data": {
      "text/plain": [
       "50295"
      ]
     },
     "execution_count": 7,
     "metadata": {},
     "output_type": "execute_result"
    }
   ],
   "source": [
    "vocab = tokenizer.get_vocab()\n",
    "len(vocab)"
   ]
  },
  {
   "cell_type": "code",
   "execution_count": 8,
   "id": "c84c1034-6a3e-4cf0-a4af-5c7754ccfb42",
   "metadata": {},
   "outputs": [],
   "source": [
    "# tokenizer.decode(token_info.get_prefixes(top_tokens[1000][0], 9, 10)[0])"
   ]
  },
  {
   "cell_type": "code",
   "execution_count": 9,
   "id": "d8531b75-5a93-438c-8b70-b36fab79b4d1",
   "metadata": {},
   "outputs": [],
   "source": [
    "model = AutoModelForCausalLM.from_pretrained(\n",
    "    model_id,\n",
    "    revision=model_revision,\n",
    "    trust_remote_code=True,\n",
    "    # be careful with this?\n",
    "    torch_dtype=torch.float16,\n",
    "    # attn_implementation=\"flash_attention_2\",\n",
    ").cuda()"
   ]
  },
  {
   "cell_type": "code",
   "execution_count": 10,
   "id": "12f82afc-4008-4d50-9069-2acd613db34e",
   "metadata": {},
   "outputs": [
    {
     "data": {
      "text/plain": [
       "PhiForCausalLM(\n",
       "  (model): PhiModel(\n",
       "    (embed_tokens): Embedding(51200, 2048)\n",
       "    (embed_dropout): Dropout(p=0.0, inplace=False)\n",
       "    (layers): ModuleList(\n",
       "      (0-23): 24 x PhiDecoderLayer(\n",
       "        (self_attn): PhiAttention(\n",
       "          (q_proj): Linear(in_features=2048, out_features=2048, bias=True)\n",
       "          (k_proj): Linear(in_features=2048, out_features=2048, bias=True)\n",
       "          (v_proj): Linear(in_features=2048, out_features=2048, bias=True)\n",
       "          (dense): Linear(in_features=2048, out_features=2048, bias=True)\n",
       "          (rotary_emb): PhiRotaryEmbedding()\n",
       "        )\n",
       "        (mlp): PhiMLP(\n",
       "          (activation_fn): NewGELUActivation()\n",
       "          (fc1): Linear(in_features=2048, out_features=8192, bias=True)\n",
       "          (fc2): Linear(in_features=8192, out_features=2048, bias=True)\n",
       "        )\n",
       "        (input_layernorm): LayerNorm((2048,), eps=1e-05, elementwise_affine=True)\n",
       "        (resid_dropout): Dropout(p=0.0, inplace=False)\n",
       "      )\n",
       "    )\n",
       "    (final_layernorm): LayerNorm((2048,), eps=1e-05, elementwise_affine=True)\n",
       "  )\n",
       "  (lm_head): Linear(in_features=2048, out_features=51200, bias=True)\n",
       ")"
      ]
     },
     "execution_count": 10,
     "metadata": {},
     "output_type": "execute_result"
    }
   ],
   "source": [
    "model"
   ]
  },
  {
   "cell_type": "markdown",
   "id": "a24eaf03-2532-4889-8453-ea7e967f6849",
   "metadata": {},
   "source": [
    "## Dataset"
   ]
  },
  {
   "cell_type": "code",
   "execution_count": 11,
   "id": "d57316ae-a64e-4b09-9185-dd76066a87d1",
   "metadata": {},
   "outputs": [],
   "source": [
    "from LLMPruner.datasets.example_samples import get_examples"
   ]
  },
  {
   "cell_type": "code",
   "execution_count": 12,
   "id": "6423cbb4-d521-4e9e-95e7-0d4bc0d36a1e",
   "metadata": {},
   "outputs": [],
   "source": [
    "# examples = get_examples(\"bookcorpus\", tokenizer, n_samples=10)\n",
    "# pd.to_pickle(examples.cpu(), \"./examples.pkl\")\n",
    "examples = pd.read_pickle(\"./examples.pkl\")"
   ]
  },
  {
   "cell_type": "code",
   "execution_count": 13,
   "id": "c2ef80b8-30bd-4628-a631-51a692c662db",
   "metadata": {},
   "outputs": [
    {
     "data": {
      "text/plain": [
       "tensor([[ 8182,   479,   672,  ...,   287, 10905,   306],\n",
       "        [12284,   284,   766,  ...,  1257,   618,   673],\n",
       "        [ 1058,   257,   380,  ...,   613,  6051,   837],\n",
       "        ...,\n",
       "        [  988,   290, 32627,  ...,   329,   262,  9546],\n",
       "        [ 4868,   584,  3835,  ...,   279,  2518,    78],\n",
       "        [ 7091,   714,  5368,  ...,   674, 15876,  1267]])"
      ]
     },
     "execution_count": 13,
     "metadata": {},
     "output_type": "execute_result"
    }
   ],
   "source": [
    "examples"
   ]
  },
  {
   "cell_type": "code",
   "execution_count": 14,
   "id": "7e00f293-f989-4699-98af-b61dc38142bd",
   "metadata": {},
   "outputs": [],
   "source": [
    "# examples = examples[:, :9]"
   ]
  },
  {
   "cell_type": "code",
   "execution_count": 15,
   "id": "427e6d60-c97c-46e7-86f6-334270e381a8",
   "metadata": {},
   "outputs": [],
   "source": [
    "examples = examples.cuda()"
   ]
  },
  {
   "cell_type": "code",
   "execution_count": 16,
   "id": "df1bd19c-d5eb-4480-84b4-8efea5153932",
   "metadata": {},
   "outputs": [
    {
     "data": {
      "text/plain": [
       "', escaped 2/46, dunblane john ferguson jnr, glengyles, ardno, escaped 2/46, dunblane peter king, glengyles, ardno, died 22/5/46 john livingston, glengyles, ardno, freed 21/8/47, ardnamurchan donald mgrigor, glengyles, ardno, escaped grigor mgrigor, glengyles, ardno, freed 47, argyll piper james mgregor, glengyles, carlisle, transported - john m'"
      ]
     },
     "execution_count": 16,
     "metadata": {},
     "output_type": "execute_result"
    }
   ],
   "source": [
    "tokenizer.decode(examples[3])"
   ]
  },
  {
   "cell_type": "markdown",
   "id": "1d26b047-8246-40a3-9b5b-0efab5303772",
   "metadata": {},
   "source": [
    "## Model importance computation"
   ]
  },
  {
   "cell_type": "code",
   "execution_count": 17,
   "id": "08868941-d331-415f-92d0-19c8e0e2cc95",
   "metadata": {},
   "outputs": [],
   "source": [
    "def get_mlps(model):\n",
    "    layers = model.get_submodule(\"model\").get_submodule(\"layers\")\n",
    "    return [layer.get_submodule(\"mlp\") for layer in layers]"
   ]
  },
  {
   "cell_type": "code",
   "execution_count": 18,
   "id": "52481e99-7682-484d-a887-62308f440d82",
   "metadata": {},
   "outputs": [],
   "source": [
    "def custom_loss(logits, labels, model):\n",
    "    # Returns crossentropy loss per token, w/o reduction\n",
    "    \n",
    "    # Shift so that tokens < n predict n\n",
    "    shift_logits = logits[..., :-1, :].contiguous()\n",
    "    shift_labels = labels[..., 1:].contiguous()\n",
    "    orig_shape = shift_labels.shape\n",
    "    # Flatten the tokens\n",
    "    loss_fct = torch.nn.CrossEntropyLoss(reduction='none')\n",
    "    shift_logits = shift_logits.view(-1, model.config.vocab_size)\n",
    "    shift_labels = shift_labels.view(-1)\n",
    "    # Enable model parallelism\n",
    "    shift_labels = shift_labels.to(shift_logits.device)\n",
    "    loss = loss_fct(shift_logits, shift_labels).view(orig_shape)\n",
    "    return loss"
   ]
  },
  {
   "cell_type": "code",
   "execution_count": 19,
   "id": "cb61d747-e9ef-4501-8e15-d3a574bb512d",
   "metadata": {},
   "outputs": [],
   "source": [
    "def compute_acc_grad_2(model, examples, mlps):\n",
    "    # Computes the second term of the taylor expansion\n",
    "    params = [list(mlp.parameters()) for mlp in mlps]\n",
    "    params = itertools.chain.from_iterable(params) # flatten list\n",
    "    res = model(examples, labels=examples)\n",
    "    losses_tens = custom_loss(res.logits, examples, model)\n",
    "    losses = [loss.mean() for loss in losses_tens]\n",
    "    # import pdb; pdb.set_trace()\n",
    "    for example_loss in losses:\n",
    "        example_loss.backward(retain_graph=True)\n",
    "        for param in params: # for all the weights\n",
    "            num_examples = examples.shape[0]\n",
    "            with torch.no_grad():\n",
    "                grad = param.grad.detach()\n",
    "                sq_grad = grad * grad / num_examples\n",
    "                if hasattr(param, \"acc_grad\"):\n",
    "                    param.acc_grad += sq_grad\n",
    "                else:\n",
    "                    param.acc_grad = sq_grad\n",
    "        model.zero_grad()\n",
    "        del example_loss\n",
    "        torch.cuda.empty_cache()\n",
    "    return losses_tens"
   ]
  },
  {
   "cell_type": "code",
   "execution_count": 20,
   "id": "20f0d974-9302-4dfe-8749-a8dc3d642dd3",
   "metadata": {},
   "outputs": [],
   "source": [
    "def compute_acc_grad(model, examples, mlps):\n",
    "    # Computes the second term of the taylor expansion\n",
    "    params = [list(mlp.parameters()) for mlp in mlps]\n",
    "    params = itertools.chain.from_iterable(params) # flatten list\n",
    "    \n",
    "    for example in examples:\n",
    "        example = example.unsqueeze(0)\n",
    "        # import pdb; pdb.set_trace()\n",
    "        loss = model(example, labels=example).loss\n",
    "        # import pdb; pdb.set_trace()\n",
    "        loss.backward()\n",
    "        for param in params: # for all the weights\n",
    "            num_examples = examples.shape[0]\n",
    "            with torch.no_grad():\n",
    "                grad = param.grad.detach()\n",
    "                sq_grad = grad * grad / num_examples\n",
    "                if hasattr(param, \"acc_grad\"):\n",
    "                    param.acc_grad += sq_grad\n",
    "                else:\n",
    "                    param.acc_grad = sq_grad\n",
    "        model.zero_grad()\n",
    "        del loss\n",
    "        torch.cuda.empty_cache()"
   ]
  },
  {
   "cell_type": "code",
   "execution_count": 21,
   "id": "3a0059ca-b3e3-4068-949d-a25810978f8d",
   "metadata": {},
   "outputs": [],
   "source": [
    "@torch.no_grad()\n",
    "def compute_mlp_importance(mlps):\n",
    "    # computes importance for hidden layers of MLP\n",
    "    importances = []\n",
    "    for mlp in mlps:\n",
    "        fc1 = mlp.fc1\n",
    "        fc2 = mlp.fc2\n",
    "        # compute importance of inputs to hidden\n",
    "        salience_w1 = fc1.weight * fc1.weight.grad\n",
    "        salience_w2 = fc2.weight * fc2.weight.grad\n",
    "        \n",
    "        salience_w1 = salience_w1 - 0.5 * fc1.weight * fc1.weight.acc_grad * fc1.weight\n",
    "        salience_w2 = salience_w2 - 0.5 * fc2.weight * fc2.weight.acc_grad * fc2.weight\n",
    "\n",
    "        importance_w1_component =  salience_w1.abs().sum(dim=1)\n",
    "        importance_w2_component =  salience_w2.abs().sum(dim=0)\n",
    "\n",
    "        # analogous to group reduction?\n",
    "        importance = importance_w1_component + importance_w2_component\n",
    "        importances.append(importance.detach().cpu())\n",
    "    return importances"
   ]
  },
  {
   "cell_type": "code",
   "execution_count": 22,
   "id": "346e0f34-2a0d-4794-ab5e-4647ce599c4d",
   "metadata": {},
   "outputs": [],
   "source": [
    "def compute_importances(model, examples, use_fast=False, few_mlps=True):\n",
    "    # start = time()\n",
    "    # returns importance for mlp examples\n",
    "    mlps = get_mlps(model)\n",
    "    if few_mlps:\n",
    "        mlps = [mlps[0], mlps[len(mlps)//2], mlps[-1]]\n",
    "    # torch.cuda.synchronize()\n",
    "    # start_2 = time()\n",
    "    if use_fast:\n",
    "        loss = compute_acc_grad_2(model, examples, mlps) # estimates hessian term of importance\n",
    "    else:\n",
    "        compute_acc_grad(model, examples, mlps) # estimates hessian term of importance\n",
    "    torch.cuda.synchronize()\n",
    "    # end_2 = time()\n",
    "    # print(f\"compute acc grad: {end_2 - start_2}\")\n",
    "    # import pdb; pdb.set_trace()\n",
    "    if use_fast:\n",
    "        # print(\"using fast\")\n",
    "        loss = loss.mean()\n",
    "        loss.backward()\n",
    "    else:\n",
    "        loss = model(examples, labels=examples).loss\n",
    "        loss.backward()\n",
    "    importances = compute_mlp_importance(mlps)\n",
    "    # torch.cuda.synchronize()\n",
    "    # end = time()\n",
    "    # print(f\"compute ttl: {end - start}\")\n",
    "    return importances"
   ]
  },
  {
   "cell_type": "code",
   "execution_count": 23,
   "id": "a66b0b95-df9a-444d-a1f8-ce32501fb5dd",
   "metadata": {},
   "outputs": [],
   "source": [
    "importances = compute_importances(model, examples, few_mlps=False)"
   ]
  },
  {
   "cell_type": "code",
   "execution_count": 25,
   "id": "385c8a94-24ba-4b32-8ee6-80a57eaa3122",
   "metadata": {},
   "outputs": [],
   "source": [
    "pd.to_pickle(importances, \"imps_llm_prunner_style.pkl\")"
   ]
  },
  {
   "cell_type": "markdown",
   "id": "fe9c5cba-ede1-4541-b537-5e937b1930a4",
   "metadata": {
    "jp-MarkdownHeadingCollapsed": true
   },
   "source": [
    "## Scratch code\n",
    "feel free to ignore"
   ]
  },
  {
   "cell_type": "code",
   "execution_count": null,
   "id": "2939c75e-8000-444c-a708-b655d96dd7b4",
   "metadata": {},
   "outputs": [],
   "source": []
  },
  {
   "cell_type": "code",
   "execution_count": null,
   "id": "eb302765-574a-4cbb-80c1-bcbd03bf99b7",
   "metadata": {},
   "outputs": [],
   "source": []
  },
  {
   "cell_type": "code",
   "execution_count": null,
   "id": "c7c5e2bf-a139-42f9-ad72-e9948a8c6772",
   "metadata": {},
   "outputs": [],
   "source": []
  },
  {
   "cell_type": "code",
   "execution_count": null,
   "id": "ba914013-37b9-448c-9563-896c28a4b28f",
   "metadata": {},
   "outputs": [],
   "source": []
  },
  {
   "cell_type": "code",
   "execution_count": null,
   "id": "5bda2362-aa77-45f0-9c96-a50615a168cb",
   "metadata": {},
   "outputs": [],
   "source": []
  },
  {
   "cell_type": "code",
   "execution_count": 25,
   "id": "49509e35-09ca-4dc3-93b8-88c9adbf1f4d",
   "metadata": {},
   "outputs": [],
   "source": [
    "importances = _"
   ]
  },
  {
   "cell_type": "code",
   "execution_count": 29,
   "id": "e3cb1fd3-25dc-418e-a91c-220d54f98b0e",
   "metadata": {},
   "outputs": [
    {
     "data": {
      "text/plain": [
       "tensor([0.0172, 0.0293, 0.0263,  ..., 0.0334, 0.0138, 0.0241], device='cuda:0',\n",
       "       dtype=torch.float16)"
      ]
     },
     "execution_count": 29,
     "metadata": {},
     "output_type": "execute_result"
    }
   ],
   "source": [
    "importances[0]"
   ]
  },
  {
   "cell_type": "code",
   "execution_count": null,
   "id": "dac1ae55-e8e5-4764-9126-d7e6336d401a",
   "metadata": {},
   "outputs": [],
   "source": []
  },
  {
   "cell_type": "code",
   "execution_count": 27,
   "id": "cbef887f-31c0-488b-ae38-1a5d0529ae67",
   "metadata": {},
   "outputs": [],
   "source": [
    "mlps = get_mlps(model)"
   ]
  },
  {
   "cell_type": "code",
   "execution_count": null,
   "id": "17ef68da-455e-4ac1-8d6c-3a8a8197e019",
   "metadata": {},
   "outputs": [],
   "source": []
  },
  {
   "cell_type": "code",
   "execution_count": 61,
   "id": "1827885f-f629-4540-9d34-0b3342e79772",
   "metadata": {},
   "outputs": [
    {
     "data": {
      "text/plain": [
       "torch.Size([10, 128])"
      ]
     },
     "execution_count": 61,
     "metadata": {},
     "output_type": "execute_result"
    }
   ],
   "source": [
    "examples.shape"
   ]
  },
  {
   "cell_type": "code",
   "execution_count": null,
   "id": "5e99336a-4f79-4a75-966d-8df470c54fb3",
   "metadata": {},
   "outputs": [],
   "source": []
  },
  {
   "cell_type": "code",
   "execution_count": null,
   "id": "8532b5ba-1a25-4045-ae07-90fcd385a010",
   "metadata": {},
   "outputs": [],
   "source": []
  },
  {
   "cell_type": "code",
   "execution_count": null,
   "id": "eee1e597-15d6-477b-a60f-7c0179a8d245",
   "metadata": {},
   "outputs": [],
   "source": []
  },
  {
   "cell_type": "code",
   "execution_count": 17,
   "id": "02d8cf29-abc7-483d-922d-73ef4a14c008",
   "metadata": {},
   "outputs": [],
   "source": [
    "mlps = get_mlps(model)"
   ]
  },
  {
   "cell_type": "code",
   "execution_count": 20,
   "id": "ad1993c9-f143-4dad-bc53-852e8cb2c8a2",
   "metadata": {},
   "outputs": [],
   "source": [
    "mlp = mlps[0]"
   ]
  },
  {
   "cell_type": "code",
   "execution_count": 21,
   "id": "d2f2da00-c9f8-4c92-821e-60f869e6aef4",
   "metadata": {},
   "outputs": [],
   "source": [
    "fc1 = mlp.get_submodule(\"fc1\")\n",
    "fc2 = mlp.get_submodule(\"fc2\")"
   ]
  },
  {
   "cell_type": "code",
   "execution_count": 38,
   "id": "e07aa8d3-3582-4a81-bfdb-9ae978f7209f",
   "metadata": {},
   "outputs": [
    {
     "data": {
      "text/plain": [
       "Linear(in_features=2048, out_features=8192, bias=True)"
      ]
     },
     "execution_count": 38,
     "metadata": {},
     "output_type": "execute_result"
    }
   ],
   "source": [
    "fc1"
   ]
  },
  {
   "cell_type": "code",
   "execution_count": null,
   "id": "81f2d16c-065d-4aa2-a127-13d97905c1c7",
   "metadata": {},
   "outputs": [],
   "source": []
  },
  {
   "cell_type": "code",
   "execution_count": null,
   "id": "452f72e3-b57d-4ff2-a551-5b9b48b35f55",
   "metadata": {},
   "outputs": [],
   "source": [
    "def compute_importance(mlp):\n",
    "    pass"
   ]
  },
  {
   "cell_type": "code",
   "execution_count": null,
   "id": "c21a7a73-ecc5-4b2c-9fca-f4d4acd30830",
   "metadata": {},
   "outputs": [],
   "source": []
  },
  {
   "cell_type": "code",
   "execution_count": null,
   "id": "7d97fee8-ed90-47ec-8a4c-5d34a4bda165",
   "metadata": {},
   "outputs": [],
   "source": []
  },
  {
   "cell_type": "code",
   "execution_count": 78,
   "id": "8c66cb9c-d540-459a-be49-15c0a03d9605",
   "metadata": {},
   "outputs": [],
   "source": [
    "modules = list(model.modules())"
   ]
  },
  {
   "cell_type": "code",
   "execution_count": 101,
   "id": "98c7b3e8-4a3c-443e-a151-37bd0fe5c203",
   "metadata": {},
   "outputs": [],
   "source": [
    "x = model.get_submodule(\"model\").get_submodule(\"layers\")[0].get_submodule(\"mlp\").get_submodule(\"fc1\")"
   ]
  },
  {
   "cell_type": "code",
   "execution_count": 113,
   "id": "3e4ecb25-2050-47f5-be1c-0ed662b9f30d",
   "metadata": {},
   "outputs": [
    {
     "data": {
      "text/plain": [
       "torch.Size([8192, 2048])"
      ]
     },
     "execution_count": 113,
     "metadata": {},
     "output_type": "execute_result"
    }
   ],
   "source": [
    "list(x.parameters())[0].grad.shape"
   ]
  },
  {
   "cell_type": "code",
   "execution_count": null,
   "id": "2e0b1e71-7611-4ad2-9a7b-ed6a120a9994",
   "metadata": {},
   "outputs": [],
   "source": []
  },
  {
   "cell_type": "code",
   "execution_count": null,
   "id": "7ca39dff-818e-49de-b27b-621c1a587c40",
   "metadata": {},
   "outputs": [],
   "source": []
  },
  {
   "cell_type": "code",
   "execution_count": null,
   "id": "f26cc2cd-7d85-4232-a24a-44f547c8ba85",
   "metadata": {},
   "outputs": [],
   "source": []
  }
 ],
 "metadata": {
  "kernelspec": {
   "display_name": "Python 3 (ipykernel)",
   "language": "python",
   "name": "python3"
  },
  "language_info": {
   "codemirror_mode": {
    "name": "ipython",
    "version": 3
   },
   "file_extension": ".py",
   "mimetype": "text/x-python",
   "name": "python",
   "nbconvert_exporter": "python",
   "pygments_lexer": "ipython3",
   "version": "3.11.7"
  }
 },
 "nbformat": 4,
 "nbformat_minor": 5
}

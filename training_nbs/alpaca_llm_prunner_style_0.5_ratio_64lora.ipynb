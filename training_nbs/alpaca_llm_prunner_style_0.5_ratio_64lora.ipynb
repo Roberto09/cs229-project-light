{
 "cells": [
  {
   "cell_type": "code",
   "execution_count": 1,
   "id": "12cc1aaf-5b39-4745-9d30-6eaed0b604b6",
   "metadata": {},
   "outputs": [],
   "source": [
    "%load_ext autoreload\n",
    "%autoreload 2"
   ]
  },
  {
   "cell_type": "code",
   "execution_count": 2,
   "id": "701747a3-a5b1-4a7f-8e1f-b456df672910",
   "metadata": {},
   "outputs": [],
   "source": [
    "import os\n",
    "os.environ[\"CUDA_VISIBLE_DEVICES\"] = \"0\""
   ]
  },
  {
   "cell_type": "code",
   "execution_count": 3,
   "id": "a7a65062-72ba-40f0-ad0c-e37ed36df9dd",
   "metadata": {},
   "outputs": [],
   "source": [
    "import os\n",
    "import pandas as pd\n",
    "import torch\n",
    "from dataset_preprocessing import TokenInfo\n",
    "import torch\n",
    "from transformers import AutoModelForCausalLM, AutoTokenizer\n",
    "import itertools\n",
    "import pandas as pd\n",
    "from tqdm import tqdm"
   ]
  },
  {
   "cell_type": "markdown",
   "id": "d376ae97-4ec1-46d5-b640-566545c2e21d",
   "metadata": {},
   "source": [
    "## Importances"
   ]
  },
  {
   "cell_type": "code",
   "execution_count": 4,
   "id": "d7943d9f-9fa3-4ae3-8e5b-2b8978c909a4",
   "metadata": {},
   "outputs": [],
   "source": [
    "def get_importances():\n",
    "    # print(\"this is wrong\")\n",
    "    dir = \"./new_importances_data\"\n",
    "    imp_files = os.listdir(dir)\n",
    "    imp_files = [file for file in imp_files if file.endswith(\".pkl\")]\n",
    "    importances = {}\n",
    "    for imp_file in tqdm(imp_files):\n",
    "        importances.update(pd.read_pickle(f\"{dir}/{imp_file}\"))\n",
    "    return importances"
   ]
  },
  {
   "cell_type": "code",
   "execution_count": 5,
   "id": "92b949f6-b4f0-420a-b379-bdcb27600d92",
   "metadata": {},
   "outputs": [],
   "source": [
    "# imps = get_importances()"
   ]
  },
  {
   "cell_type": "code",
   "execution_count": 6,
   "id": "b6aee5d8-b934-4388-a280-226e823cfc72",
   "metadata": {},
   "outputs": [],
   "source": [
    "def get_avg_imporances(importances):\n",
    "    avg_imps = [torch.zeros_like(imp) for imp in list(importances.values())[0]]\n",
    "    for token, imps in tqdm(importances.items()):\n",
    "        for i, layer_imps in enumerate(imps):\n",
    "            avg_imps[i] += layer_imps / len(importances)\n",
    "    # TODO think harder about averaging method\n",
    "    return avg_imps"
   ]
  },
  {
   "cell_type": "code",
   "execution_count": 7,
   "id": "7b49a204-d574-4c49-a615-f6cbe0d68103",
   "metadata": {},
   "outputs": [],
   "source": [
    "# avg_importances = get_avg_imporances(imps)"
   ]
  },
  {
   "cell_type": "code",
   "execution_count": 8,
   "id": "38b9cea4-4361-4750-935a-c313302ba106",
   "metadata": {},
   "outputs": [],
   "source": [
    "# pd.to_pickle(avg_importances, \"./avg_importances.pkl\")"
   ]
  },
  {
   "cell_type": "code",
   "execution_count": 9,
   "id": "fd7daa4f-5525-4bc6-ab49-df4e159f3449",
   "metadata": {},
   "outputs": [],
   "source": [
    "avg_importances = pd.read_pickle(\"./avg_importances.pkl\")"
   ]
  },
  {
   "cell_type": "code",
   "execution_count": 10,
   "id": "2f94d76e-fa17-4f7d-b1f6-cdad75876469",
   "metadata": {},
   "outputs": [
    {
     "data": {
      "text/plain": [
       "24"
      ]
     },
     "execution_count": 10,
     "metadata": {},
     "output_type": "execute_result"
    }
   ],
   "source": [
    "len(avg_importances)"
   ]
  },
  {
   "cell_type": "markdown",
   "id": "2b4532c3-06f6-4353-b261-92acee331bbc",
   "metadata": {},
   "source": [
    "## Model"
   ]
  },
  {
   "cell_type": "code",
   "execution_count": 11,
   "id": "41b0cc63-e94b-4d1e-aff7-ea5c7310e5ca",
   "metadata": {},
   "outputs": [],
   "source": [
    "model_id = \"microsoft/phi-1_5\"\n",
    "model_revision = \"349cf8b5e81fd5f791d1740da5de1313a0419bbd\" # latest as of feb 1st"
   ]
  },
  {
   "cell_type": "code",
   "execution_count": 12,
   "id": "a84556f1-3c37-4283-bbdb-7d57b2f8d4c4",
   "metadata": {},
   "outputs": [],
   "source": [
    "tokenizer = AutoTokenizer.from_pretrained(model_id, trust_remote_code=True)"
   ]
  },
  {
   "cell_type": "code",
   "execution_count": 13,
   "id": "434047b0-2814-4a7d-8b36-26bb8cea6ef9",
   "metadata": {},
   "outputs": [
    {
     "data": {
      "text/plain": [
       "50295"
      ]
     },
     "execution_count": 13,
     "metadata": {},
     "output_type": "execute_result"
    }
   ],
   "source": [
    "vocab = tokenizer.get_vocab()\n",
    "len(vocab)"
   ]
  },
  {
   "cell_type": "code",
   "execution_count": 14,
   "id": "0188674e-b98b-4880-8ea1-f5c7793d6a13",
   "metadata": {},
   "outputs": [],
   "source": [
    "# tokenizer.decode(token_info.get_prefixes(top_tokens[1000][0], 9, 10)[0])"
   ]
  },
  {
   "cell_type": "code",
   "execution_count": 15,
   "id": "b379b1d8-0ab9-44df-83ed-089795112f4d",
   "metadata": {},
   "outputs": [],
   "source": [
    "model = AutoModelForCausalLM.from_pretrained(\n",
    "    model_id,\n",
    "    revision=model_revision,\n",
    "    trust_remote_code=True,\n",
    "    # be careful with this?\n",
    "    # torch_dtype=torch.float16,\n",
    "    # attn_implementation=\"flash_attention_2\",\n",
    ")"
   ]
  },
  {
   "cell_type": "code",
   "execution_count": null,
   "id": "b29bb579-da14-4e34-b37f-eba117b1e816",
   "metadata": {},
   "outputs": [],
   "source": []
  },
  {
   "cell_type": "markdown",
   "id": "2c698778-7f3b-4cf8-8bfe-6b0c54849ca2",
   "metadata": {},
   "source": [
    "## Prune Model"
   ]
  },
  {
   "cell_type": "code",
   "execution_count": 16,
   "id": "9250468a-c3e1-498a-8799-bbbbc763f086",
   "metadata": {},
   "outputs": [],
   "source": [
    "from prunners import prune_mlps_individually\n",
    "from importances import get_mlps"
   ]
  },
  {
   "cell_type": "code",
   "execution_count": 17,
   "id": "e11be390-99df-4b99-9e18-25255d3d269b",
   "metadata": {},
   "outputs": [],
   "source": [
    "mlps = get_mlps(model)"
   ]
  },
  {
   "cell_type": "code",
   "execution_count": 18,
   "id": "207a1fcd-edaf-43e2-a52d-ba4fc39b7c0c",
   "metadata": {},
   "outputs": [
    {
     "data": {
      "text/plain": [
       "(24, 24)"
      ]
     },
     "execution_count": 18,
     "metadata": {},
     "output_type": "execute_result"
    }
   ],
   "source": [
    "len(mlps), len(avg_importances)"
   ]
  },
  {
   "cell_type": "code",
   "execution_count": 19,
   "id": "0810f24f-cb59-4c40-9b66-588c669bb2a2",
   "metadata": {},
   "outputs": [],
   "source": [
    "avg_importances = dict(zip(mlps, avg_importances))"
   ]
  },
  {
   "cell_type": "code",
   "execution_count": 20,
   "id": "1c222ae1-5dcd-4801-96dc-0ebdfd10666e",
   "metadata": {},
   "outputs": [],
   "source": [
    "prune_mlps_individually(avg_importances, 0.5)"
   ]
  },
  {
   "cell_type": "code",
   "execution_count": 21,
   "id": "b96da5cc-9b2c-44e1-8b38-ef0592767ce0",
   "metadata": {},
   "outputs": [
    {
     "data": {
      "text/plain": [
       "PhiForCausalLM(\n",
       "  (model): PhiModel(\n",
       "    (embed_tokens): Embedding(51200, 2048)\n",
       "    (embed_dropout): Dropout(p=0.0, inplace=False)\n",
       "    (layers): ModuleList(\n",
       "      (0-23): 24 x PhiDecoderLayer(\n",
       "        (self_attn): PhiAttention(\n",
       "          (q_proj): Linear(in_features=2048, out_features=2048, bias=True)\n",
       "          (k_proj): Linear(in_features=2048, out_features=2048, bias=True)\n",
       "          (v_proj): Linear(in_features=2048, out_features=2048, bias=True)\n",
       "          (dense): Linear(in_features=2048, out_features=2048, bias=True)\n",
       "          (rotary_emb): PhiRotaryEmbedding()\n",
       "        )\n",
       "        (mlp): PhiMLP(\n",
       "          (activation_fn): NewGELUActivation()\n",
       "          (fc1): Linear(in_features=2048, out_features=4096, bias=True)\n",
       "          (fc2): Linear(in_features=4096, out_features=2048, bias=True)\n",
       "        )\n",
       "        (input_layernorm): LayerNorm((2048,), eps=1e-05, elementwise_affine=True)\n",
       "        (resid_dropout): Dropout(p=0.0, inplace=False)\n",
       "      )\n",
       "    )\n",
       "    (final_layernorm): LayerNorm((2048,), eps=1e-05, elementwise_affine=True)\n",
       "  )\n",
       "  (lm_head): Linear(in_features=2048, out_features=51200, bias=True)\n",
       ")"
      ]
     },
     "execution_count": 21,
     "metadata": {},
     "output_type": "execute_result"
    }
   ],
   "source": [
    "model"
   ]
  },
  {
   "cell_type": "code",
   "execution_count": null,
   "id": "174b2b6f-45a6-4329-bdd3-171d70d2038f",
   "metadata": {},
   "outputs": [],
   "source": []
  },
  {
   "cell_type": "markdown",
   "id": "57e201b1-c8a2-4ca7-9f06-bb7efca6cca1",
   "metadata": {},
   "source": [
    "## New Dataset"
   ]
  },
  {
   "cell_type": "code",
   "execution_count": 22,
   "id": "c5bc318b-4f97-4ca2-ab7e-3ddb1bd23166",
   "metadata": {},
   "outputs": [
    {
     "name": "stderr",
     "output_type": "stream",
     "text": [
      "/home/research/robgarct/.conda/envs/cs224n-pip3/lib/python3.11/site-packages/trl/trainer/ppo_config.py:141: UserWarning: The `optimize_cuda_cache` arguement will be deprecated soon, please use `optimize_device_cache` instead.\n",
      "  warnings.warn(\n"
     ]
    }
   ],
   "source": [
    "from other_datasets import get_minipile, get_c4, get_wikitext2_filtered, get_bookcorpus, get_alpaca, QADataCollator, to_dataset\n",
    "from dataset import get_baseline_dataset"
   ]
  },
  {
   "cell_type": "code",
   "execution_count": 23,
   "id": "dbce5a31-f328-41ca-8679-52a61e32cf24",
   "metadata": {},
   "outputs": [
    {
     "name": "stderr",
     "output_type": "stream",
     "text": [
      "\u001b[32m2024-03-06 14:18:21.998\u001b[0m | \u001b[1mINFO    \u001b[0m | \u001b[36mother_datasets\u001b[0m:\u001b[36m__init__\u001b[0m:\u001b[36m309\u001b[0m - \u001b[1mMean length of tokens per window: 111.64232\u001b[0m\n",
      "\u001b[32m2024-03-06 14:18:22.648\u001b[0m | \u001b[1mINFO    \u001b[0m | \u001b[36mother_datasets\u001b[0m:\u001b[36m__init__\u001b[0m:\u001b[36m309\u001b[0m - \u001b[1mMean length of tokens per window: 109.2675\u001b[0m\n"
     ]
    }
   ],
   "source": [
    "alpaca_train, alpaca_eval = get_alpaca(tokenizer, do_split=True)\n",
    "# eval datasets\n",
    "# tiny_text = get_baseline_dataset()[\"test\"]\n",
    "# c4 = get_c4(n=2000, do_split=False)\n",
    "# minipile = get_minipile(n=2000, do_split=False)\n",
    "wikitext = get_wikitext2_filtered(n=2000, do_split=False)\n",
    "# bookcorpus = get_bookcorpus(n=2000, do_split=False)"
   ]
  },
  {
   "cell_type": "markdown",
   "id": "ac24f211-4303-48e3-904b-c5e11bc4ad87",
   "metadata": {},
   "source": [
    "## Metric Callback"
   ]
  },
  {
   "cell_type": "code",
   "execution_count": 24,
   "id": "4234ede1-13cc-4eaa-8dcd-809119e7fb5c",
   "metadata": {},
   "outputs": [],
   "source": [
    "from transformers import TrainerCallback"
   ]
  },
  {
   "cell_type": "code",
   "execution_count": 25,
   "id": "3511bcf0-3afa-4d4e-a440-2207d5f70dcd",
   "metadata": {},
   "outputs": [],
   "source": [
    "from evaluation import evaluate_on_nlp_tasks"
   ]
  },
  {
   "cell_type": "code",
   "execution_count": 26,
   "id": "0373c84f-b861-4bdb-b741-3ebb33e498dd",
   "metadata": {},
   "outputs": [],
   "source": [
    "class AccEvalCallback(TrainerCallback):\n",
    "    def __init__(self):\n",
    "        super().__init__()\n",
    "        self.last_step=-1\n",
    "    \n",
    "    def on_evaluate(self, args, state, control, model, **kwargs):\n",
    "        if state.global_step == self.last_step:\n",
    "            return\n",
    "        self.last_step = state.global_step\n",
    "        train = model.training\n",
    "        model.eval()\n",
    "        with torch.no_grad():\n",
    "            os.environ[\"TQDM_DISABLE\"] = \"1\"\n",
    "            eval_res = evaluate_on_nlp_tasks(model, tokenizer, limit=1000)[\"results\"]\n",
    "            # import pdb; pdb.set_trace()\n",
    "            eval_res = {k:v[\"acc,none\"] for k,v in eval_res.items()}\n",
    "            for k, v in eval_res.items():\n",
    "                state.log_history.append(\n",
    "                    {\n",
    "                        k:v,\n",
    "                        \"epoch\":state.epoch,\n",
    "                        \"step\":state.global_step,\n",
    "                    }\n",
    "                )\n",
    "            del os.environ['TQDM_DISABLE']\n",
    "            print(eval_res)\n",
    "        model.train(train)"
   ]
  },
  {
   "cell_type": "code",
   "execution_count": 27,
   "id": "6f4ca0ef-729b-4501-931b-2f6f54bf3a37",
   "metadata": {},
   "outputs": [],
   "source": [
    "class EnableMLPBias(TrainerCallback):\n",
    "    def on_init_end(self, args, state, control, model, **kwargs):\n",
    "        for n, p in model.named_parameters():\n",
    "            if \"base_layer\" in n and \"bias\" in n:\n",
    "                p.requires_grad = True"
   ]
  },
  {
   "cell_type": "markdown",
   "id": "028756c1-b952-49e2-acad-476c47285710",
   "metadata": {},
   "source": [
    "## Train model"
   ]
  },
  {
   "cell_type": "code",
   "execution_count": 28,
   "id": "d3b61461-c77a-498c-b35c-c25e7188e9a2",
   "metadata": {},
   "outputs": [],
   "source": [
    "from peft import LoraConfig, PeftConfig\n",
    "import transformers"
   ]
  },
  {
   "cell_type": "code",
   "execution_count": 29,
   "id": "b5f8ba3c-7105-4836-b44b-67ad39f908e3",
   "metadata": {},
   "outputs": [],
   "source": [
    "from post_training import get_lora_config, get_training_arguments\n",
    "from other_datasets import SFTTrainer_\n",
    "from trl import SFTTrainer"
   ]
  },
  {
   "cell_type": "code",
   "execution_count": 30,
   "id": "f2762576-56bf-4b88-8d9e-71388e4446a9",
   "metadata": {},
   "outputs": [],
   "source": [
    "lora_config = get_lora_config(r=64)\n",
    "training_arguments = get_training_arguments(\"./tmp\")"
   ]
  },
  {
   "cell_type": "code",
   "execution_count": 31,
   "id": "ad26f2bb-f8ec-4c3b-9a2c-cfd92da7ecf8",
   "metadata": {},
   "outputs": [],
   "source": [
    "model.cuda();"
   ]
  },
  {
   "cell_type": "code",
   "execution_count": 32,
   "id": "bc563e00-7011-41c3-b548-9bab5fdb3fba",
   "metadata": {},
   "outputs": [],
   "source": [
    "model.config.use_cache = False\n",
    "model.config.pretraining_tp = 1\n",
    "model.gradient_checkpointing_enable()"
   ]
  },
  {
   "cell_type": "code",
   "execution_count": 33,
   "id": "6927d003-e04d-4399-a32a-a13dd04a61dc",
   "metadata": {},
   "outputs": [],
   "source": [
    "# train_data, eval_data = minipile[\"train\"], minipile[\"test\"]\n",
    "train_data, eval_data = alpaca_train, alpaca_eval\n",
    "eval_datasets = {\n",
    "    \"alpaca\":alpaca_eval,\n",
    "    # \"minipile\":minipile,\n",
    "    # \"c4\":c4,\n",
    "    \"wikitext\":wikitext,\n",
    "    # \"tiny_text\":tiny_text,\n",
    "    # \"bookcorpus\":bookcorpus,\n",
    "}"
   ]
  },
  {
   "cell_type": "code",
   "execution_count": 34,
   "id": "c84f5087-e549-475e-9f60-d77d7ad47d6c",
   "metadata": {},
   "outputs": [],
   "source": [
    "callbacks = [AccEvalCallback(), EnableMLPBias()]"
   ]
  },
  {
   "cell_type": "code",
   "execution_count": 35,
   "id": "9fafbd2f-2df9-422c-bf54-b4805c964c94",
   "metadata": {},
   "outputs": [],
   "source": [
    "tokenizer.pad_token = tokenizer.eos_token"
   ]
  },
  {
   "cell_type": "code",
   "execution_count": 36,
   "id": "96c8ee21-77d6-4171-b8c4-ca369467f1b3",
   "metadata": {},
   "outputs": [],
   "source": [
    "training_arguments.save_strategy=\"no\""
   ]
  },
  {
   "cell_type": "code",
   "execution_count": 37,
   "id": "3fe501a6-7a3f-40f0-a2ee-20dec6be7f5d",
   "metadata": {},
   "outputs": [],
   "source": [
    "training_arguments.eval_steps = 100"
   ]
  },
  {
   "cell_type": "code",
   "execution_count": 38,
   "id": "e59a8478-4378-4fd3-b938-d6fe52fe4050",
   "metadata": {},
   "outputs": [
    {
     "data": {
      "application/vnd.jupyter.widget-view+json": {
       "model_id": "3dae1c900a374bf4a8e72db5881263b1",
       "version_major": 2,
       "version_minor": 0
      },
      "text/plain": [
       "Map:   0%|          | 0/2000 [00:00<?, ? examples/s]"
      ]
     },
     "metadata": {},
     "output_type": "display_data"
    },
    {
     "name": "stderr",
     "output_type": "stream",
     "text": [
      "2024-03-06:14:18:42,484 WARNING  [logging.py:61] Detected kernel version 4.18.0, which is below the recommended minimum of 5.5.0; this can cause the process to hang. It is recommended to upgrade the kernel to the minimum version or higher.\n"
     ]
    }
   ],
   "source": [
    "trainer = SFTTrainer_(\n",
    "    model=model,\n",
    "    train_dataset=train_data,\n",
    "    eval_dataset=eval_datasets,\n",
    "    # eval_dataset={k:v.select(range(0, 100)) for k, v in eval_datasets.items()},\n",
    "    # eval_dataset=eval_datasets[\"minipile\"],\n",
    "    peft_config=lora_config,\n",
    "    tokenizer=tokenizer,\n",
    "    args=training_arguments,\n",
    "    packing=False,\n",
    "    dataset_text_field=\"text\",\n",
    "    max_seq_length=1024, # tweak this\n",
    "    # TODO: think harder about the datacollator\n",
    "    # data_collator=transformers.DataCollatorForSeq2Seq(\n",
    "    #     tokenizer, pad_to_multiple_of=8, return_tensors=\"pt\", padding=True\n",
    "    # ),\n",
    "    callbacks=callbacks,\n",
    "    data_collator=QADataCollator(tokenizer),\n",
    ")"
   ]
  },
  {
   "cell_type": "code",
   "execution_count": 39,
   "id": "c694fc7f-e15d-4ee2-851d-8fed025c7ce1",
   "metadata": {},
   "outputs": [
    {
     "data": {
      "text/plain": [
       "Parameter containing:\n",
       "tensor([[-0.0109,  0.0299,  0.0062,  ...,  0.0533, -0.0579,  0.0222],\n",
       "        [-0.0191,  0.0190, -0.0047,  ...,  0.0625, -0.0063, -0.0221],\n",
       "        [-0.0254, -0.0176, -0.0102,  ...,  0.0064,  0.0209,  0.0180],\n",
       "        ...,\n",
       "        [ 0.0443, -0.0440,  0.0129,  ...,  0.0148,  0.0323,  0.0180],\n",
       "        [-0.0003, -0.0041, -0.0067,  ..., -0.0082, -0.0086,  0.0221],\n",
       "        [-0.0157, -0.0372, -0.0213,  ..., -0.0288, -0.0250, -0.0317]],\n",
       "       device='cuda:0')"
      ]
     },
     "execution_count": 39,
     "metadata": {},
     "output_type": "execute_result"
    }
   ],
   "source": [
    "model.model.layers[0].mlp.fc1.base_layer.weight"
   ]
  },
  {
   "cell_type": "code",
   "execution_count": 40,
   "id": "97cfa6a6-3d3e-4757-8f15-380d3100bcd7",
   "metadata": {},
   "outputs": [
    {
     "data": {
      "text/plain": [
       "Parameter containing:\n",
       "tensor([-0.0210, -0.0126, -0.0157,  ..., -0.0200, -0.0035, -0.0140],\n",
       "       device='cuda:0', requires_grad=True)"
      ]
     },
     "execution_count": 40,
     "metadata": {},
     "output_type": "execute_result"
    }
   ],
   "source": [
    "model.model.layers[0].mlp.fc1.base_layer.bias"
   ]
  },
  {
   "cell_type": "code",
   "execution_count": null,
   "id": "0ec32e3b-934c-474f-9933-bbaea89e845c",
   "metadata": {},
   "outputs": [],
   "source": [
    "# model.eval();\n",
    "# with torch.no_grad():\n",
    "#     eval_res = evaluate_on_nlp_tasks(model, tokenizer, limit=1000)\n",
    "# model.train()"
   ]
  },
  {
   "cell_type": "code",
   "execution_count": 85,
   "id": "ec4a8cea-9bb7-46b5-9cf8-75365e3a9356",
   "metadata": {},
   "outputs": [
    {
     "data": {
      "text/plain": [
       "{'hellaswag': {'acc,none': 0.348,\n",
       "  'acc_norm,none': 0.443,\n",
       "  'alias': 'hellaswag'},\n",
       " 'piqa': {'acc,none': 0.671, 'acc_norm,none': 0.665, 'alias': 'piqa'},\n",
       " 'boolq': {'acc,none': 0.625, 'alias': 'boolq'},\n",
       " 'winogrande': {'acc,none': 0.522, 'alias': 'winogrande'}}"
      ]
     },
     "execution_count": 85,
     "metadata": {},
     "output_type": "execute_result"
    }
   ],
   "source": [
    "eval_res[\"results\"]"
   ]
  },
  {
   "cell_type": "code",
   "execution_count": 41,
   "id": "f9627897-2fb5-4e09-b317-950ea969edb2",
   "metadata": {},
   "outputs": [
    {
     "data": {
      "text/html": [
       "\n",
       "    <div>\n",
       "      \n",
       "      <progress value='1666' max='1666' style='width:300px; height:20px; vertical-align: middle;'></progress>\n",
       "      [1666/1666 5:10:03, Epoch 1/2]\n",
       "    </div>\n",
       "    <table border=\"1\" class=\"dataframe\">\n",
       "  <thead>\n",
       " <tr style=\"text-align: left;\">\n",
       "      <th>Step</th>\n",
       "      <th>Training Loss</th>\n",
       "      <th>Validation Loss</th>\n",
       "      <th>Alpaca Loss</th>\n",
       "      <th>Wikitext Loss</th>\n",
       "    </tr>\n",
       "  </thead>\n",
       "  <tbody>\n",
       "    <tr>\n",
       "      <td>100</td>\n",
       "      <td>2.051200</td>\n",
       "      <td>No log</td>\n",
       "      <td>2.049421</td>\n",
       "      <td>4.595955</td>\n",
       "    </tr>\n",
       "    <tr>\n",
       "      <td>200</td>\n",
       "      <td>1.854500</td>\n",
       "      <td>No log</td>\n",
       "      <td>1.858034</td>\n",
       "      <td>4.429690</td>\n",
       "    </tr>\n",
       "    <tr>\n",
       "      <td>300</td>\n",
       "      <td>1.765400</td>\n",
       "      <td>No log</td>\n",
       "      <td>1.810117</td>\n",
       "      <td>4.389284</td>\n",
       "    </tr>\n",
       "    <tr>\n",
       "      <td>400</td>\n",
       "      <td>1.734000</td>\n",
       "      <td>No log</td>\n",
       "      <td>1.784144</td>\n",
       "      <td>4.364333</td>\n",
       "    </tr>\n",
       "    <tr>\n",
       "      <td>500</td>\n",
       "      <td>1.779700</td>\n",
       "      <td>No log</td>\n",
       "      <td>1.768275</td>\n",
       "      <td>4.337015</td>\n",
       "    </tr>\n",
       "    <tr>\n",
       "      <td>600</td>\n",
       "      <td>1.736800</td>\n",
       "      <td>No log</td>\n",
       "      <td>1.759247</td>\n",
       "      <td>4.317789</td>\n",
       "    </tr>\n",
       "    <tr>\n",
       "      <td>700</td>\n",
       "      <td>1.779000</td>\n",
       "      <td>No log</td>\n",
       "      <td>1.750195</td>\n",
       "      <td>4.309574</td>\n",
       "    </tr>\n",
       "    <tr>\n",
       "      <td>800</td>\n",
       "      <td>1.709600</td>\n",
       "      <td>No log</td>\n",
       "      <td>1.743682</td>\n",
       "      <td>4.311879</td>\n",
       "    </tr>\n",
       "    <tr>\n",
       "      <td>900</td>\n",
       "      <td>1.729100</td>\n",
       "      <td>No log</td>\n",
       "      <td>1.739597</td>\n",
       "      <td>4.301714</td>\n",
       "    </tr>\n",
       "    <tr>\n",
       "      <td>1000</td>\n",
       "      <td>1.721300</td>\n",
       "      <td>No log</td>\n",
       "      <td>1.736435</td>\n",
       "      <td>4.294729</td>\n",
       "    </tr>\n",
       "    <tr>\n",
       "      <td>1100</td>\n",
       "      <td>1.710900</td>\n",
       "      <td>No log</td>\n",
       "      <td>1.732990</td>\n",
       "      <td>4.301196</td>\n",
       "    </tr>\n",
       "    <tr>\n",
       "      <td>1200</td>\n",
       "      <td>1.732800</td>\n",
       "      <td>No log</td>\n",
       "      <td>1.730329</td>\n",
       "      <td>4.299638</td>\n",
       "    </tr>\n",
       "    <tr>\n",
       "      <td>1300</td>\n",
       "      <td>1.704400</td>\n",
       "      <td>No log</td>\n",
       "      <td>1.728419</td>\n",
       "      <td>4.299650</td>\n",
       "    </tr>\n",
       "    <tr>\n",
       "      <td>1400</td>\n",
       "      <td>1.700200</td>\n",
       "      <td>No log</td>\n",
       "      <td>1.726445</td>\n",
       "      <td>4.293601</td>\n",
       "    </tr>\n",
       "    <tr>\n",
       "      <td>1500</td>\n",
       "      <td>1.645300</td>\n",
       "      <td>No log</td>\n",
       "      <td>1.724926</td>\n",
       "      <td>4.289324</td>\n",
       "    </tr>\n",
       "    <tr>\n",
       "      <td>1600</td>\n",
       "      <td>1.649900</td>\n",
       "      <td>No log</td>\n",
       "      <td>1.724026</td>\n",
       "      <td>4.290172</td>\n",
       "    </tr>\n",
       "  </tbody>\n",
       "</table><p>"
      ],
      "text/plain": [
       "<IPython.core.display.HTML object>"
      ]
     },
     "metadata": {},
     "output_type": "display_data"
    },
    {
     "name": "stderr",
     "output_type": "stream",
     "text": [
      "2024-03-05:13:34:53,792 WARNING  [huggingface.py:105] `pretrained` model kwarg is not of type `str`. Many other model arguments may be ignored. Please do not launch via accelerate or use `parallelize=True` if passing an existing model this way.\n",
      "2024-03-05:13:34:53,820 WARNING  [huggingface.py:315] Passed an already-initialized model through `pretrained`, assuming single-process call to evaluate() or custom distributed integration\n",
      "/home/research/robgarct/.conda/envs/cs224n-pip3/lib/python3.11/site-packages/datasets/load.py:1429: FutureWarning: The repository for hellaswag contains custom code which must be executed to correctly load the dataset. You can inspect the repository content at https://hf.co/datasets/hellaswag\n",
      "You can avoid this message in future by passing the argument `trust_remote_code=True`.\n",
      "Passing `trust_remote_code=True` will be mandatory to load this dataset from the next major release of `datasets`.\n",
      "  warnings.warn(\n",
      " 61%|███████████████▊          | 6059/10000 [06:56<05:18, 12.38it/s]IOPub message rate exceeded.\n",
      "The Jupyter server will temporarily stop sending output\n",
      "to the client in order to avoid crashing it.\n",
      "To change this limit, set the config variable\n",
      "`--ServerApp.iopub_msg_rate_limit`.\n",
      "\n",
      "Current values:\n",
      "ServerApp.iopub_msg_rate_limit=1000.0 (msgs/sec)\n",
      "ServerApp.rate_limit_window=3.0 (secs)\n",
      "\n",
      "/home/research/robgarct/.conda/envs/cs224n-pip3/lib/python3.11/site-packages/datasets/load.py:1429: FutureWarning: The repository for hellaswag contains custom code which must be executed to correctly load the dataset. You can inspect the repository content at https://hf.co/datasets/hellaswag\n",
      "You can avoid this message in future by passing the argument `trust_remote_code=True`.\n",
      "Passing `trust_remote_code=True` will be mandatory to load this dataset from the next major release of `datasets`.\n",
      "  warnings.warn(\n",
      "100%|█████████████████████████| 10000/10000 [10:48<00:00, 15.42it/s]\n"
     ]
    },
    {
     "name": "stdout",
     "output_type": "stream",
     "text": [
      "{'hellaswag': 0.391, 'piqa': 0.722, 'boolq': 0.631, 'winogrande': 0.594}\n"
     ]
    },
    {
     "name": "stderr",
     "output_type": "stream",
     "text": [
      "fatal: not a git repository (or any parent up to mount point /)\n",
      "Stopping at filesystem boundary (GIT_DISCOVERY_ACROSS_FILESYSTEM not set).\n",
      "/home/research/robgarct/.conda/envs/cs224n-pip3/lib/python3.11/site-packages/datasets/load.py:1429: FutureWarning: The repository for hellaswag contains custom code which must be executed to correctly load the dataset. You can inspect the repository content at https://hf.co/datasets/hellaswag\n",
      "You can avoid this message in future by passing the argument `trust_remote_code=True`.\n",
      "Passing `trust_remote_code=True` will be mandatory to load this dataset from the next major release of `datasets`.\n",
      "  warnings.warn(\n",
      "100%|█████████████████████████| 10000/10000 [08:01<00:00, 20.76it/s]\n"
     ]
    },
    {
     "name": "stdout",
     "output_type": "stream",
     "text": [
      "{'hellaswag': 0.392, 'piqa': 0.716, 'boolq': 0.636, 'winogrande': 0.591}\n"
     ]
    },
    {
     "name": "stderr",
     "output_type": "stream",
     "text": [
      "fatal: not a git repository (or any parent up to mount point /)\n",
      "Stopping at filesystem boundary (GIT_DISCOVERY_ACROSS_FILESYSTEM not set).\n",
      "/home/research/robgarct/.conda/envs/cs224n-pip3/lib/python3.11/site-packages/datasets/load.py:1429: FutureWarning: The repository for hellaswag contains custom code which must be executed to correctly load the dataset. You can inspect the repository content at https://hf.co/datasets/hellaswag\n",
      "You can avoid this message in future by passing the argument `trust_remote_code=True`.\n",
      "Passing `trust_remote_code=True` will be mandatory to load this dataset from the next major release of `datasets`.\n",
      "  warnings.warn(\n",
      "100%|█████████████████████████| 10000/10000 [08:55<00:00, 18.66it/s]\n"
     ]
    },
    {
     "name": "stdout",
     "output_type": "stream",
     "text": [
      "{'hellaswag': 0.394, 'piqa': 0.71, 'boolq': 0.635, 'winogrande': 0.586}\n"
     ]
    },
    {
     "name": "stderr",
     "output_type": "stream",
     "text": [
      "fatal: not a git repository (or any parent up to mount point /)\n",
      "Stopping at filesystem boundary (GIT_DISCOVERY_ACROSS_FILESYSTEM not set).\n",
      "/home/research/robgarct/.conda/envs/cs224n-pip3/lib/python3.11/site-packages/datasets/load.py:1429: FutureWarning: The repository for hellaswag contains custom code which must be executed to correctly load the dataset. You can inspect the repository content at https://hf.co/datasets/hellaswag\n",
      "You can avoid this message in future by passing the argument `trust_remote_code=True`.\n",
      "Passing `trust_remote_code=True` will be mandatory to load this dataset from the next major release of `datasets`.\n",
      "  warnings.warn(\n",
      "100%|█████████████████████████| 10000/10000 [11:16<00:00, 14.79it/s]\n"
     ]
    },
    {
     "name": "stdout",
     "output_type": "stream",
     "text": [
      "{'hellaswag': 0.39, 'piqa': 0.712, 'boolq': 0.63, 'winogrande': 0.595}\n"
     ]
    },
    {
     "name": "stderr",
     "output_type": "stream",
     "text": [
      "fatal: not a git repository (or any parent up to mount point /)\n",
      "Stopping at filesystem boundary (GIT_DISCOVERY_ACROSS_FILESYSTEM not set).\n",
      "/home/research/robgarct/.conda/envs/cs224n-pip3/lib/python3.11/site-packages/datasets/load.py:1429: FutureWarning: The repository for hellaswag contains custom code which must be executed to correctly load the dataset. You can inspect the repository content at https://hf.co/datasets/hellaswag\n",
      "You can avoid this message in future by passing the argument `trust_remote_code=True`.\n",
      "Passing `trust_remote_code=True` will be mandatory to load this dataset from the next major release of `datasets`.\n",
      "  warnings.warn(\n",
      "100%|█████████████████████████| 10000/10000 [10:45<00:00, 15.50it/s]\n"
     ]
    },
    {
     "name": "stdout",
     "output_type": "stream",
     "text": [
      "{'hellaswag': 0.39, 'piqa': 0.713, 'boolq': 0.632, 'winogrande': 0.597}\n"
     ]
    },
    {
     "name": "stderr",
     "output_type": "stream",
     "text": [
      "fatal: not a git repository (or any parent up to mount point /)\n",
      "Stopping at filesystem boundary (GIT_DISCOVERY_ACROSS_FILESYSTEM not set).\n",
      "/home/research/robgarct/.conda/envs/cs224n-pip3/lib/python3.11/site-packages/datasets/load.py:1429: FutureWarning: The repository for hellaswag contains custom code which must be executed to correctly load the dataset. You can inspect the repository content at https://hf.co/datasets/hellaswag\n",
      "You can avoid this message in future by passing the argument `trust_remote_code=True`.\n",
      "Passing `trust_remote_code=True` will be mandatory to load this dataset from the next major release of `datasets`.\n",
      "  warnings.warn(\n",
      "100%|█████████████████████████| 10000/10000 [11:00<00:00, 15.14it/s]\n"
     ]
    },
    {
     "name": "stdout",
     "output_type": "stream",
     "text": [
      "{'hellaswag': 0.39, 'piqa': 0.718, 'boolq': 0.632, 'winogrande': 0.596}\n"
     ]
    },
    {
     "name": "stderr",
     "output_type": "stream",
     "text": [
      "fatal: not a git repository (or any parent up to mount point /)\n",
      "Stopping at filesystem boundary (GIT_DISCOVERY_ACROSS_FILESYSTEM not set).\n",
      "/home/research/robgarct/.conda/envs/cs224n-pip3/lib/python3.11/site-packages/datasets/load.py:1429: FutureWarning: The repository for hellaswag contains custom code which must be executed to correctly load the dataset. You can inspect the repository content at https://hf.co/datasets/hellaswag\n",
      "You can avoid this message in future by passing the argument `trust_remote_code=True`.\n",
      "Passing `trust_remote_code=True` will be mandatory to load this dataset from the next major release of `datasets`.\n",
      "  warnings.warn(\n",
      "100%|█████████████████████████| 10000/10000 [11:16<00:00, 14.77it/s]\n"
     ]
    },
    {
     "name": "stdout",
     "output_type": "stream",
     "text": [
      "{'hellaswag': 0.389, 'piqa': 0.715, 'boolq': 0.631, 'winogrande': 0.591}\n"
     ]
    },
    {
     "name": "stderr",
     "output_type": "stream",
     "text": [
      "fatal: not a git repository (or any parent up to mount point /)\n",
      "Stopping at filesystem boundary (GIT_DISCOVERY_ACROSS_FILESYSTEM not set).\n",
      "/home/research/robgarct/.conda/envs/cs224n-pip3/lib/python3.11/site-packages/datasets/load.py:1429: FutureWarning: The repository for hellaswag contains custom code which must be executed to correctly load the dataset. You can inspect the repository content at https://hf.co/datasets/hellaswag\n",
      "You can avoid this message in future by passing the argument `trust_remote_code=True`.\n",
      "Passing `trust_remote_code=True` will be mandatory to load this dataset from the next major release of `datasets`.\n",
      "  warnings.warn(\n",
      "100%|█████████████████████████| 10000/10000 [10:32<00:00, 15.82it/s]\n"
     ]
    },
    {
     "name": "stdout",
     "output_type": "stream",
     "text": [
      "{'hellaswag': 0.39, 'piqa': 0.719, 'boolq': 0.631, 'winogrande': 0.596}\n"
     ]
    },
    {
     "name": "stderr",
     "output_type": "stream",
     "text": [
      "fatal: not a git repository (or any parent up to mount point /)\n",
      "Stopping at filesystem boundary (GIT_DISCOVERY_ACROSS_FILESYSTEM not set).\n",
      "/home/research/robgarct/.conda/envs/cs224n-pip3/lib/python3.11/site-packages/datasets/load.py:1429: FutureWarning: The repository for hellaswag contains custom code which must be executed to correctly load the dataset. You can inspect the repository content at https://hf.co/datasets/hellaswag\n",
      "You can avoid this message in future by passing the argument `trust_remote_code=True`.\n",
      "Passing `trust_remote_code=True` will be mandatory to load this dataset from the next major release of `datasets`.\n",
      "  warnings.warn(\n",
      "100%|█████████████████████████| 10000/10000 [11:09<00:00, 14.94it/s]\n"
     ]
    },
    {
     "name": "stdout",
     "output_type": "stream",
     "text": [
      "{'hellaswag': 0.392, 'piqa': 0.714, 'boolq': 0.632, 'winogrande': 0.591}\n"
     ]
    },
    {
     "name": "stderr",
     "output_type": "stream",
     "text": [
      "fatal: not a git repository (or any parent up to mount point /)\n",
      "Stopping at filesystem boundary (GIT_DISCOVERY_ACROSS_FILESYSTEM not set).\n",
      "/home/research/robgarct/.conda/envs/cs224n-pip3/lib/python3.11/site-packages/datasets/load.py:1429: FutureWarning: The repository for hellaswag contains custom code which must be executed to correctly load the dataset. You can inspect the repository content at https://hf.co/datasets/hellaswag\n",
      "You can avoid this message in future by passing the argument `trust_remote_code=True`.\n",
      "Passing `trust_remote_code=True` will be mandatory to load this dataset from the next major release of `datasets`.\n",
      "  warnings.warn(\n",
      "100%|█████████████████████████| 10000/10000 [11:12<00:00, 14.86it/s]\n"
     ]
    },
    {
     "name": "stdout",
     "output_type": "stream",
     "text": [
      "{'hellaswag': 0.392, 'piqa': 0.713, 'boolq': 0.632, 'winogrande': 0.587}\n"
     ]
    },
    {
     "name": "stderr",
     "output_type": "stream",
     "text": [
      "fatal: not a git repository (or any parent up to mount point /)\n",
      "Stopping at filesystem boundary (GIT_DISCOVERY_ACROSS_FILESYSTEM not set).\n",
      "/home/research/robgarct/.conda/envs/cs224n-pip3/lib/python3.11/site-packages/datasets/load.py:1429: FutureWarning: The repository for hellaswag contains custom code which must be executed to correctly load the dataset. You can inspect the repository content at https://hf.co/datasets/hellaswag\n",
      "You can avoid this message in future by passing the argument `trust_remote_code=True`.\n",
      "Passing `trust_remote_code=True` will be mandatory to load this dataset from the next major release of `datasets`.\n",
      "  warnings.warn(\n",
      "100%|█████████████████████████| 10000/10000 [10:43<00:00, 15.53it/s]\n"
     ]
    },
    {
     "name": "stdout",
     "output_type": "stream",
     "text": [
      "{'hellaswag': 0.393, 'piqa': 0.714, 'boolq': 0.634, 'winogrande': 0.588}\n"
     ]
    },
    {
     "name": "stderr",
     "output_type": "stream",
     "text": [
      "fatal: not a git repository (or any parent up to mount point /)\n",
      "Stopping at filesystem boundary (GIT_DISCOVERY_ACROSS_FILESYSTEM not set).\n"
     ]
    }
   ],
   "source": [
    "train_res = trainer.train()"
   ]
  },
  {
   "cell_type": "code",
   "execution_count": 42,
   "id": "12ebaa77-b4dd-450d-973b-dc4a47465fb2",
   "metadata": {
    "scrolled": true
   },
   "outputs": [],
   "source": [
    "pd.to_pickle(trainer.state, \"./tmp/alpaca_trainer_state_llm_pruner_style_0.5ratio_64lora.pkl\")"
   ]
  },
  {
   "cell_type": "code",
   "execution_count": 43,
   "id": "d21577ec-dd89-4189-ae61-c888258355a7",
   "metadata": {},
   "outputs": [
    {
     "data": {
      "text/html": [
       "<div>\n",
       "<style scoped>\n",
       "    .dataframe tbody tr th:only-of-type {\n",
       "        vertical-align: middle;\n",
       "    }\n",
       "\n",
       "    .dataframe tbody tr th {\n",
       "        vertical-align: top;\n",
       "    }\n",
       "\n",
       "    .dataframe thead th {\n",
       "        text-align: right;\n",
       "    }\n",
       "</style>\n",
       "<table border=\"1\" class=\"dataframe\">\n",
       "  <thead>\n",
       "    <tr style=\"text-align: right;\">\n",
       "      <th></th>\n",
       "      <th>loss</th>\n",
       "      <th>learning_rate</th>\n",
       "      <th>epoch</th>\n",
       "      <th>step</th>\n",
       "      <th>eval_alpaca_loss</th>\n",
       "      <th>eval_alpaca_runtime</th>\n",
       "      <th>eval_alpaca_samples_per_second</th>\n",
       "      <th>eval_alpaca_steps_per_second</th>\n",
       "      <th>hellaswag</th>\n",
       "      <th>piqa</th>\n",
       "      <th>...</th>\n",
       "      <th>winogrande</th>\n",
       "      <th>eval_wikitext_loss</th>\n",
       "      <th>eval_wikitext_runtime</th>\n",
       "      <th>eval_wikitext_samples_per_second</th>\n",
       "      <th>eval_wikitext_steps_per_second</th>\n",
       "      <th>train_runtime</th>\n",
       "      <th>train_samples_per_second</th>\n",
       "      <th>train_steps_per_second</th>\n",
       "      <th>total_flos</th>\n",
       "      <th>train_loss</th>\n",
       "    </tr>\n",
       "  </thead>\n",
       "  <tbody>\n",
       "    <tr>\n",
       "      <th>259</th>\n",
       "      <td>1.6977</td>\n",
       "      <td>2.298851e-06</td>\n",
       "      <td>1.96</td>\n",
       "      <td>1630</td>\n",
       "      <td>NaN</td>\n",
       "      <td>NaN</td>\n",
       "      <td>NaN</td>\n",
       "      <td>NaN</td>\n",
       "      <td>NaN</td>\n",
       "      <td>NaN</td>\n",
       "      <td>...</td>\n",
       "      <td>NaN</td>\n",
       "      <td>NaN</td>\n",
       "      <td>NaN</td>\n",
       "      <td>NaN</td>\n",
       "      <td>NaN</td>\n",
       "      <td>NaN</td>\n",
       "      <td>NaN</td>\n",
       "      <td>NaN</td>\n",
       "      <td>NaN</td>\n",
       "      <td>NaN</td>\n",
       "    </tr>\n",
       "    <tr>\n",
       "      <th>260</th>\n",
       "      <td>1.6833</td>\n",
       "      <td>1.660281e-06</td>\n",
       "      <td>1.97</td>\n",
       "      <td>1640</td>\n",
       "      <td>NaN</td>\n",
       "      <td>NaN</td>\n",
       "      <td>NaN</td>\n",
       "      <td>NaN</td>\n",
       "      <td>NaN</td>\n",
       "      <td>NaN</td>\n",
       "      <td>...</td>\n",
       "      <td>NaN</td>\n",
       "      <td>NaN</td>\n",
       "      <td>NaN</td>\n",
       "      <td>NaN</td>\n",
       "      <td>NaN</td>\n",
       "      <td>NaN</td>\n",
       "      <td>NaN</td>\n",
       "      <td>NaN</td>\n",
       "      <td>NaN</td>\n",
       "      <td>NaN</td>\n",
       "    </tr>\n",
       "    <tr>\n",
       "      <th>261</th>\n",
       "      <td>1.6916</td>\n",
       "      <td>1.021711e-06</td>\n",
       "      <td>1.98</td>\n",
       "      <td>1650</td>\n",
       "      <td>NaN</td>\n",
       "      <td>NaN</td>\n",
       "      <td>NaN</td>\n",
       "      <td>NaN</td>\n",
       "      <td>NaN</td>\n",
       "      <td>NaN</td>\n",
       "      <td>...</td>\n",
       "      <td>NaN</td>\n",
       "      <td>NaN</td>\n",
       "      <td>NaN</td>\n",
       "      <td>NaN</td>\n",
       "      <td>NaN</td>\n",
       "      <td>NaN</td>\n",
       "      <td>NaN</td>\n",
       "      <td>NaN</td>\n",
       "      <td>NaN</td>\n",
       "      <td>NaN</td>\n",
       "    </tr>\n",
       "    <tr>\n",
       "      <th>262</th>\n",
       "      <td>1.6954</td>\n",
       "      <td>3.831418e-07</td>\n",
       "      <td>1.99</td>\n",
       "      <td>1660</td>\n",
       "      <td>NaN</td>\n",
       "      <td>NaN</td>\n",
       "      <td>NaN</td>\n",
       "      <td>NaN</td>\n",
       "      <td>NaN</td>\n",
       "      <td>NaN</td>\n",
       "      <td>...</td>\n",
       "      <td>NaN</td>\n",
       "      <td>NaN</td>\n",
       "      <td>NaN</td>\n",
       "      <td>NaN</td>\n",
       "      <td>NaN</td>\n",
       "      <td>NaN</td>\n",
       "      <td>NaN</td>\n",
       "      <td>NaN</td>\n",
       "      <td>NaN</td>\n",
       "      <td>NaN</td>\n",
       "    </tr>\n",
       "    <tr>\n",
       "      <th>263</th>\n",
       "      <td>NaN</td>\n",
       "      <td>NaN</td>\n",
       "      <td>2.00</td>\n",
       "      <td>1666</td>\n",
       "      <td>NaN</td>\n",
       "      <td>NaN</td>\n",
       "      <td>NaN</td>\n",
       "      <td>NaN</td>\n",
       "      <td>NaN</td>\n",
       "      <td>NaN</td>\n",
       "      <td>...</td>\n",
       "      <td>NaN</td>\n",
       "      <td>NaN</td>\n",
       "      <td>NaN</td>\n",
       "      <td>NaN</td>\n",
       "      <td>NaN</td>\n",
       "      <td>18609.8924</td>\n",
       "      <td>5.373</td>\n",
       "      <td>0.09</td>\n",
       "      <td>1.067754e+17</td>\n",
       "      <td>1.78843</td>\n",
       "    </tr>\n",
       "  </tbody>\n",
       "</table>\n",
       "<p>5 rows × 21 columns</p>\n",
       "</div>"
      ],
      "text/plain": [
       "       loss  learning_rate  epoch  step  eval_alpaca_loss  \\\n",
       "259  1.6977   2.298851e-06   1.96  1630               NaN   \n",
       "260  1.6833   1.660281e-06   1.97  1640               NaN   \n",
       "261  1.6916   1.021711e-06   1.98  1650               NaN   \n",
       "262  1.6954   3.831418e-07   1.99  1660               NaN   \n",
       "263     NaN            NaN   2.00  1666               NaN   \n",
       "\n",
       "     eval_alpaca_runtime  eval_alpaca_samples_per_second  \\\n",
       "259                  NaN                             NaN   \n",
       "260                  NaN                             NaN   \n",
       "261                  NaN                             NaN   \n",
       "262                  NaN                             NaN   \n",
       "263                  NaN                             NaN   \n",
       "\n",
       "     eval_alpaca_steps_per_second  hellaswag  piqa  ...  winogrande  \\\n",
       "259                           NaN        NaN   NaN  ...         NaN   \n",
       "260                           NaN        NaN   NaN  ...         NaN   \n",
       "261                           NaN        NaN   NaN  ...         NaN   \n",
       "262                           NaN        NaN   NaN  ...         NaN   \n",
       "263                           NaN        NaN   NaN  ...         NaN   \n",
       "\n",
       "     eval_wikitext_loss  eval_wikitext_runtime  \\\n",
       "259                 NaN                    NaN   \n",
       "260                 NaN                    NaN   \n",
       "261                 NaN                    NaN   \n",
       "262                 NaN                    NaN   \n",
       "263                 NaN                    NaN   \n",
       "\n",
       "     eval_wikitext_samples_per_second  eval_wikitext_steps_per_second  \\\n",
       "259                               NaN                             NaN   \n",
       "260                               NaN                             NaN   \n",
       "261                               NaN                             NaN   \n",
       "262                               NaN                             NaN   \n",
       "263                               NaN                             NaN   \n",
       "\n",
       "     train_runtime  train_samples_per_second  train_steps_per_second  \\\n",
       "259            NaN                       NaN                     NaN   \n",
       "260            NaN                       NaN                     NaN   \n",
       "261            NaN                       NaN                     NaN   \n",
       "262            NaN                       NaN                     NaN   \n",
       "263     18609.8924                     5.373                    0.09   \n",
       "\n",
       "       total_flos  train_loss  \n",
       "259           NaN         NaN  \n",
       "260           NaN         NaN  \n",
       "261           NaN         NaN  \n",
       "262           NaN         NaN  \n",
       "263  1.067754e+17     1.78843  \n",
       "\n",
       "[5 rows x 21 columns]"
      ]
     },
     "execution_count": 43,
     "metadata": {},
     "output_type": "execute_result"
    }
   ],
   "source": [
    "trainer_state = trainer.state\n",
    "pd.DataFrame(trainer_state.log_history).tail()"
   ]
  },
  {
   "cell_type": "markdown",
   "id": "f7747a96-c9d9-491d-9038-e5b94a804022",
   "metadata": {},
   "source": [
    "### Evaluation"
   ]
  },
  {
   "cell_type": "code",
   "execution_count": 44,
   "id": "ff2c832d-9ecb-4807-8dee-e081a8c18753",
   "metadata": {},
   "outputs": [],
   "source": [
    "from evaluation import evaluate_on_nlp_tasks"
   ]
  },
  {
   "cell_type": "code",
   "execution_count": 45,
   "id": "110433d8-8edb-4498-acfc-81b82fe885c5",
   "metadata": {},
   "outputs": [],
   "source": [
    "model.eval();"
   ]
  },
  {
   "cell_type": "code",
   "execution_count": 46,
   "id": "a2d79529-534e-403c-b3d2-0b02a9680940",
   "metadata": {
    "scrolled": true
   },
   "outputs": [
    {
     "name": "stderr",
     "output_type": "stream",
     "text": [
      "/home/research/robgarct/.conda/envs/cs224n-pip3/lib/python3.11/site-packages/datasets/load.py:1429: FutureWarning: The repository for hellaswag contains custom code which must be executed to correctly load the dataset. You can inspect the repository content at https://hf.co/datasets/hellaswag\n",
      "You can avoid this message in future by passing the argument `trust_remote_code=True`.\n",
      "Passing `trust_remote_code=True` will be mandatory to load this dataset from the next major release of `datasets`.\n",
      "  warnings.warn(\n",
      "100%|███████████████████████████| 3000/3000 [02:34<00:00, 19.42it/s]\n",
      "fatal: not a git repository (or any parent up to mount point /)\n",
      "Stopping at filesystem boundary (GIT_DISCOVERY_ACROSS_FILESYSTEM not set).\n"
     ]
    }
   ],
   "source": [
    "with torch.no_grad():\n",
    "    eval_res = evaluate_on_nlp_tasks(model, tokenizer, limit=300)"
   ]
  },
  {
   "cell_type": "code",
   "execution_count": 47,
   "id": "e73b1de3-966c-46ae-b824-8dc7ab9ac4fa",
   "metadata": {},
   "outputs": [
    {
     "data": {
      "text/plain": [
       "{'hellaswag': {'acc,none': 0.39666666666666667,\n",
       "  'acc_norm,none': 0.45,\n",
       "  'alias': 'hellaswag'},\n",
       " 'piqa': {'acc,none': 0.7066666666666667,\n",
       "  'acc_norm,none': 0.72,\n",
       "  'alias': 'piqa'},\n",
       " 'boolq': {'acc,none': 0.6366666666666667, 'alias': 'boolq'},\n",
       " 'winogrande': {'acc,none': 0.6066666666666667, 'alias': 'winogrande'}}"
      ]
     },
     "execution_count": 47,
     "metadata": {},
     "output_type": "execute_result"
    }
   ],
   "source": [
    "eval_res[\"results\"]"
   ]
  },
  {
   "cell_type": "code",
   "execution_count": null,
   "id": "1e324d2d-ebb2-4a8a-8e9c-1218667d1b67",
   "metadata": {},
   "outputs": [],
   "source": []
  },
  {
   "cell_type": "code",
   "execution_count": 73,
   "id": "0e6be537-e539-4eae-bdad-a94d2078e886",
   "metadata": {},
   "outputs": [
    {
     "name": "stderr",
     "output_type": "stream",
     "text": [
      "/home/research/robgarct/.conda/envs/cs224n-pip3/lib/python3.11/site-packages/datasets/load.py:1429: FutureWarning: The repository for hellaswag contains custom code which must be executed to correctly load the dataset. You can inspect the repository content at https://hf.co/datasets/hellaswag\n",
      "You can avoid this message in future by passing the argument `trust_remote_code=True`.\n",
      "Passing `trust_remote_code=True` will be mandatory to load this dataset from the next major release of `datasets`.\n",
      "  warnings.warn(\n",
      "100%|█| 10000/10000 [08:50<00:00, 18.85it\n",
      "fatal: not a git repository (or any parent up to mount point /)\n",
      "Stopping at filesystem boundary (GIT_DISCOVERY_ACROSS_FILESYSTEM not set).\n"
     ]
    }
   ],
   "source": [
    "eval_res = evaluate_on_nlp_tasks(model, tokenizer, limit=1000, bootstrap_iters=1000)"
   ]
  },
  {
   "cell_type": "code",
   "execution_count": 74,
   "id": "997199ae-6e99-463f-a78b-d5ad2c5cb654",
   "metadata": {},
   "outputs": [
    {
     "data": {
      "text/plain": [
       "{'hellaswag': {'acc,none': 0.394,\n",
       "  'acc_stderr,none': 0.015459721957493382,\n",
       "  'acc_norm,none': 0.483,\n",
       "  'acc_norm_stderr,none': 0.015810153729833434,\n",
       "  'alias': 'hellaswag'},\n",
       " 'piqa': {'acc,none': 0.717,\n",
       "  'acc_stderr,none': 0.01425181090648175,\n",
       "  'acc_norm,none': 0.71,\n",
       "  'acc_norm_stderr,none': 0.014356395999905689,\n",
       "  'alias': 'piqa'},\n",
       " 'boolq': {'acc,none': 0.635,\n",
       "  'acc_stderr,none': 0.015231776226264902,\n",
       "  'alias': 'boolq'},\n",
       " 'winogrande': {'acc,none': 0.59,\n",
       "  'acc_stderr,none': 0.015560917136921669,\n",
       "  'alias': 'winogrande'}}"
      ]
     },
     "execution_count": 74,
     "metadata": {},
     "output_type": "execute_result"
    }
   ],
   "source": [
    "eval_res[\"results\"]"
   ]
  },
  {
   "cell_type": "code",
   "execution_count": null,
   "id": "f08c91c5-116f-46a3-ae4e-632b0fcf7f2f",
   "metadata": {},
   "outputs": [],
   "source": []
  },
  {
   "cell_type": "code",
   "execution_count": 70,
   "id": "19cc81c4-d607-4646-9189-fbc3b43c3f6d",
   "metadata": {
    "scrolled": true
   },
   "outputs": [
    {
     "name": "stderr",
     "output_type": "stream",
     "text": [
      "/home/research/robgarct/.conda/envs/cs224n-pip3/lib/python3.11/site-packages/datasets/load.py:1429: FutureWarning: The repository for hellaswag contains custom code which must be executed to correctly load the dataset. You can inspect the repository content at https://hf.co/datasets/hellaswag\n",
      "You can avoid this message in future by passing the argument `trust_remote_code=True`.\n",
      "Passing `trust_remote_code=True` will be mandatory to load this dataset from the next major release of `datasets`.\n",
      "  warnings.warn(\n",
      "100%|█| 1000/1000 [00:54<00:00, 18.25it/s\n",
      "fatal: not a git repository (or any parent up to mount point /)\n",
      "Stopping at filesystem boundary (GIT_DISCOVERY_ACROSS_FILESYSTEM not set).\n"
     ]
    }
   ],
   "source": [
    "x = evaluate_on_nlp_tasks(model, tokenizer, limit=100, bootstrap_iters=1000)"
   ]
  },
  {
   "cell_type": "code",
   "execution_count": 72,
   "id": "f0bb5459-63a6-4444-8b0e-99af0eea2dfb",
   "metadata": {},
   "outputs": [
    {
     "data": {
      "text/plain": [
       "{'hellaswag': {'acc,none': 0.43,\n",
       "  'acc_stderr,none': 0.049756985195624284,\n",
       "  'acc_norm,none': 0.48,\n",
       "  'acc_norm_stderr,none': 0.050211673156867795,\n",
       "  'alias': 'hellaswag'},\n",
       " 'piqa': {'acc,none': 0.73,\n",
       "  'acc_stderr,none': 0.044619604333847394,\n",
       "  'acc_norm,none': 0.74,\n",
       "  'acc_norm_stderr,none': 0.04408440022768079,\n",
       "  'alias': 'piqa'},\n",
       " 'boolq': {'acc,none': 0.72,\n",
       "  'acc_stderr,none': 0.04512608598542127,\n",
       "  'alias': 'boolq'},\n",
       " 'winogrande': {'acc,none': 0.65,\n",
       "  'acc_stderr,none': 0.0479372485441102,\n",
       "  'alias': 'winogrande'}}"
      ]
     },
     "execution_count": 72,
     "metadata": {},
     "output_type": "execute_result"
    }
   ],
   "source": [
    "x[\"results\"]"
   ]
  },
  {
   "cell_type": "code",
   "execution_count": null,
   "id": "7fede7ac-1104-4b81-8c35-ea0f99014ccb",
   "metadata": {},
   "outputs": [],
   "source": []
  },
  {
   "cell_type": "markdown",
   "id": "7c1b2289-ca6a-4d8d-96ff-57faf39ee348",
   "metadata": {},
   "source": [
    "## Save"
   ]
  },
  {
   "cell_type": "code",
   "execution_count": 50,
   "id": "39060dc2-d38f-4033-ac62-512d56f30e25",
   "metadata": {},
   "outputs": [],
   "source": [
    "model.cpu();"
   ]
  },
  {
   "cell_type": "code",
   "execution_count": 51,
   "id": "1b0d8b9b-d226-491e-955b-1a6adaa50883",
   "metadata": {},
   "outputs": [],
   "source": [
    "torch.save(model.state_dict(), \"./tmp/alpaca_model_llm_prunner_style_0.5ratio_64lora_state_dict\")"
   ]
  },
  {
   "cell_type": "code",
   "execution_count": null,
   "id": "069739a5-5948-4410-afc3-cd42d6cbbe56",
   "metadata": {},
   "outputs": [],
   "source": []
  },
  {
   "cell_type": "markdown",
   "id": "8c05f489-408e-496a-b78d-a4917f93049d",
   "metadata": {},
   "source": [
    "## Looking at stats"
   ]
  },
  {
   "cell_type": "code",
   "execution_count": 52,
   "id": "25682716-c138-4e06-a673-61fdf6093434",
   "metadata": {},
   "outputs": [],
   "source": [
    "df = pd.DataFrame(trainer_state.log_history)"
   ]
  },
  {
   "cell_type": "code",
   "execution_count": 53,
   "id": "0850b3c5-fda0-48c9-baab-e9413fbdfb4f",
   "metadata": {},
   "outputs": [],
   "source": [
    "metrics_df = df[[\"step\", \"hellaswag\", \"piqa\", \"boolq\", \"winogrande\"]]"
   ]
  },
  {
   "cell_type": "code",
   "execution_count": 54,
   "id": "882ffcb5-2f27-4d23-842a-f3d1f0100c15",
   "metadata": {},
   "outputs": [
    {
     "data": {
      "text/plain": [
       "<Axes: xlabel='step'>"
      ]
     },
     "execution_count": 54,
     "metadata": {},
     "output_type": "execute_result"
    },
    {
     "data": {
      "image/png": "[encoded data removed]",
      "text/plain": [
       "<Figure size 640x480 with 1 Axes>"
      ]
     },
     "metadata": {},
     "output_type": "display_data"
    }
   ],
   "source": [
    "metrics_df[[\"step\", \"boolq\"]].dropna().set_index(\"step\").plot()"
   ]
  },
  {
   "cell_type": "code",
   "execution_count": 55,
   "id": "b1e38ba6-358f-4ef0-b977-aa8ad2bcd342",
   "metadata": {},
   "outputs": [
    {
     "data": {
      "text/plain": [
       "<Axes: xlabel='step'>"
      ]
     },
     "execution_count": 55,
     "metadata": {},
     "output_type": "execute_result"
    },
    {
     "data": {
      "image/png": "[encoded data removed]",
      "text/plain": [
       "<Figure size 640x480 with 1 Axes>"
      ]
     },
     "metadata": {},
     "output_type": "display_data"
    }
   ],
   "source": [
    "metrics_df[[\"step\", \"hellaswag\"]].dropna().set_index(\"step\").plot()"
   ]
  },
  {
   "cell_type": "code",
   "execution_count": 56,
   "id": "5645772c-ffce-421e-819c-7366a695af1e",
   "metadata": {},
   "outputs": [
    {
     "data": {
      "image/png": "[encoded data removed]",
      "text/plain": [
       "<Figure size 640x480 with 1 Axes>"
      ]
     },
     "metadata": {},
     "output_type": "display_data"
    }
   ],
   "source": [
    "metrics_df = df[[\"step\", \"piqa\"]].dropna().set_index(\"step\").plot()"
   ]
  },
  {
   "cell_type": "code",
   "execution_count": 57,
   "id": "f06a5fd1-0afc-4f44-b8a0-1bdb3aceb757",
   "metadata": {},
   "outputs": [
    {
     "data": {
      "image/png": "[encoded data removed]",
      "text/plain": [
       "<Figure size 640x480 with 1 Axes>"
      ]
     },
     "metadata": {},
     "output_type": "display_data"
    }
   ],
   "source": [
    "metrics_df = df[[\"step\", \"winogrande\"]].dropna().set_index(\"step\").plot()"
   ]
  },
  {
   "cell_type": "code",
   "execution_count": 59,
   "id": "e5d012da-0584-4be6-8e2d-32c673a7595d",
   "metadata": {},
   "outputs": [],
   "source": [
    "eval_df = df[[\"step\", \"eval_alpaca_loss\", \"eval_wikitext_loss\"]].set_index(\"step\")"
   ]
  },
  {
   "cell_type": "code",
   "execution_count": 61,
   "id": "778d50f9-a08d-474f-bfed-860dc8d63786",
   "metadata": {},
   "outputs": [
    {
     "data": {
      "text/plain": [
       "<Axes: xlabel='step'>"
      ]
     },
     "execution_count": 61,
     "metadata": {},
     "output_type": "execute_result"
    },
    {
     "data": {
      "image/png": "[encoded data removed]",
      "text/plain": [
       "<Figure size 640x480 with 1 Axes>"
      ]
     },
     "metadata": {},
     "output_type": "display_data"
    }
   ],
   "source": [
    "(eval_df / eval_df.max()).interpolate(method='linear').plot()"
   ]
  },
  {
   "cell_type": "code",
   "execution_count": 62,
   "id": "c9280aaf-8c5c-4451-92cc-01c0183bb7b9",
   "metadata": {},
   "outputs": [
    {
     "data": {
      "text/plain": [
       "<Axes: xlabel='step'>"
      ]
     },
     "execution_count": 62,
     "metadata": {},
     "output_type": "execute_result"
    },
    {
     "data": {
      "image/png": "[encoded data removed]",
      "text/plain": [
       "<Figure size 640x480 with 1 Axes>"
      ]
     },
     "metadata": {},
     "output_type": "display_data"
    }
   ],
   "source": [
    "df[[\"step\", \"eval_alpaca_loss\", \"loss\"]].set_index(\"step\").interpolate(method='linear').plot()"
   ]
  },
  {
   "cell_type": "code",
   "execution_count": null,
   "id": "7b8e15bc-1a1a-4c63-8c3e-0f653a9f8fa5",
   "metadata": {},
   "outputs": [],
   "source": []
  }
 ],
 "metadata": {
  "kernelspec": {
   "display_name": "Python 3 (ipykernel)",
   "language": "python",
   "name": "python3"
  },
  "language_info": {
   "codemirror_mode": {
    "name": "ipython",
    "version": 3
   },
   "file_extension": ".py",
   "mimetype": "text/x-python",
   "name": "python",
   "nbconvert_exporter": "python",
   "pygments_lexer": "ipython3",
   "version": "3.11.7"
  }
 },
 "nbformat": 4,
 "nbformat_minor": 5
}

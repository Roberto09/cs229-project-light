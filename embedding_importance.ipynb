{
 "cells": [
  {
   "cell_type": "code",
   "execution_count": 1,
   "id": "8dcc0b3c-f49e-4f81-9e4d-6be001ffaac6",
   "metadata": {},
   "outputs": [],
   "source": [
    "%load_ext autoreload\n",
    "%autoreload 2"
   ]
  },
  {
   "cell_type": "code",
   "execution_count": 2,
   "id": "3af7d008-d05d-4641-a135-eda49f96de2c",
   "metadata": {},
   "outputs": [
    {
     "name": "stderr",
     "output_type": "stream",
     "text": [
      "/home/research/andriv/.conda/envs/pytorch_cuda-11.8/lib/python3.9/site-packages/tqdm/auto.py:21: TqdmWarning: IProgress not found. Please update jupyter and ipywidgets. See https://ipywidgets.readthedocs.io/en/stable/user_install.html\n",
      "  from .autonotebook import tqdm as notebook_tqdm\n"
     ]
    }
   ],
   "source": [
    "from dataset_preprocessing import TokenInfo"
   ]
  },
  {
   "cell_type": "code",
   "execution_count": 3,
   "id": "09feb74d-c26a-4a1e-ae6d-ea67a8dec791",
   "metadata": {},
   "outputs": [],
   "source": [
    "import torch\n",
    "from transformers import AutoModelForCausalLM, AutoTokenizer\n",
    "import pandas as pd"
   ]
  },
  {
   "cell_type": "code",
   "execution_count": 4,
   "id": "b37ba1c7-b354-4080-b52a-4db60da9f52b",
   "metadata": {},
   "outputs": [],
   "source": [
    "from tqdm import tqdm\n",
    "import random"
   ]
  },
  {
   "cell_type": "code",
   "execution_count": 5,
   "id": "b3ebe020-9d6b-4435-add6-8b2da60a61e3",
   "metadata": {},
   "outputs": [
    {
     "name": "stdout",
     "output_type": "stream",
     "text": [
      "...Loading dataset...\n",
      "...Loading complete...\n"
     ]
    }
   ],
   "source": [
    "token_info = TokenInfo()\n"
   ]
  },
  {
   "cell_type": "code",
   "execution_count": 6,
   "id": "26a6331d-96cc-4770-b939-1663c62471df",
   "metadata": {},
   "outputs": [],
   "source": [
    "model_id = \"microsoft/phi-1_5\"\n",
    "model_revision = \"349cf8b5e81fd5f791d1740da5de1313a0419bbd\" # latest as of feb 1st"
   ]
  },
  {
   "cell_type": "code",
   "execution_count": 7,
   "id": "ca5d892d-2334-4205-9eb8-69bc06f90bfe",
   "metadata": {},
   "outputs": [
    {
     "data": {
      "text/plain": [
       "50295"
      ]
     },
     "execution_count": 7,
     "metadata": {},
     "output_type": "execute_result"
    }
   ],
   "source": [
    "tokenizer = AutoTokenizer.from_pretrained(model_id, trust_remote_code=True)\n",
    "vocab = tokenizer.get_vocab()\n",
    "len(vocab)"
   ]
  },
  {
   "cell_type": "code",
   "execution_count": 8,
   "id": "17c00791-b21d-4337-ab2b-7030deb76384",
   "metadata": {},
   "outputs": [],
   "source": [
    "model = AutoModelForCausalLM.from_pretrained(\n",
    "    model_id,\n",
    "    revision=model_revision,\n",
    "    trust_remote_code=True,\n",
    "    # be careful with this?\n",
    "    torch_dtype=torch.float16,\n",
    "    # attn_implementation=\"flash_attention_2\",\n",
    ")"
   ]
  },
  {
   "cell_type": "code",
   "execution_count": 9,
   "id": "f41a6ac9-bac0-4b43-a5c0-cbf13561190e",
   "metadata": {},
   "outputs": [
    {
     "data": {
      "text/plain": [
       "PhiForCausalLM(\n",
       "  (model): PhiModel(\n",
       "    (embed_tokens): Embedding(51200, 2048)\n",
       "    (embed_dropout): Dropout(p=0.0, inplace=False)\n",
       "    (layers): ModuleList(\n",
       "      (0-23): 24 x PhiDecoderLayer(\n",
       "        (self_attn): PhiAttention(\n",
       "          (q_proj): Linear(in_features=2048, out_features=2048, bias=True)\n",
       "          (k_proj): Linear(in_features=2048, out_features=2048, bias=True)\n",
       "          (v_proj): Linear(in_features=2048, out_features=2048, bias=True)\n",
       "          (dense): Linear(in_features=2048, out_features=2048, bias=True)\n",
       "          (rotary_emb): PhiRotaryEmbedding()\n",
       "        )\n",
       "        (mlp): PhiMLP(\n",
       "          (activation_fn): NewGELUActivation()\n",
       "          (fc1): Linear(in_features=2048, out_features=8192, bias=True)\n",
       "          (fc2): Linear(in_features=8192, out_features=2048, bias=True)\n",
       "        )\n",
       "        (input_layernorm): LayerNorm((2048,), eps=1e-05, elementwise_affine=True)\n",
       "        (resid_dropout): Dropout(p=0.0, inplace=False)\n",
       "      )\n",
       "    )\n",
       "    (final_layernorm): LayerNorm((2048,), eps=1e-05, elementwise_affine=True)\n",
       "  )\n",
       "  (lm_head): Linear(in_features=2048, out_features=51200, bias=True)\n",
       ")"
      ]
     },
     "execution_count": 9,
     "metadata": {},
     "output_type": "execute_result"
    }
   ],
   "source": [
    "model"
   ]
  },
  {
   "cell_type": "code",
   "execution_count": 10,
   "id": "2f3fe4b2-7566-4b05-ba08-80569d6bc38c",
   "metadata": {},
   "outputs": [],
   "source": [
    "top_10k = token_info.top_n(10_000)"
   ]
  },
  {
   "cell_type": "code",
   "execution_count": 11,
   "id": "0527917f-d2c1-492f-b8af-5968acc35b4a",
   "metadata": {},
   "outputs": [],
   "source": [
    "token_samples = random.sample(top_10k, 2000)"
   ]
  },
  {
   "cell_type": "code",
   "execution_count": 20,
   "id": "6b71d01d-0e2a-4eb2-ba98-0e1b79328862",
   "metadata": {},
   "outputs": [],
   "source": [
    "from importances import compute_delta_loss_importances"
   ]
  },
  {
   "cell_type": "code",
   "execution_count": 28,
   "id": "5eba6f30-a409-4a2f-82dc-1aa930fd0a3d",
   "metadata": {},
   "outputs": [
    {
     "name": "stderr",
     "output_type": "stream",
     "text": [
      "2000it [31:37,  1.05it/s]\n"
     ]
    }
   ],
   "source": [
    "importance_dict = {}\n",
    "# take longer sequences\n",
    "for i, t_info in tqdm(enumerate(token_samples)):\n",
    "    examples = token_info.get_prefixes(t_info[0], 50, 10)\n",
    "    examples = torch.tensor(examples, device=\"cuda:0\")\n",
    "    importances, sample_inputs = compute_delta_loss_importances(model, examples)\n",
    "    #print(importances[0])\n",
    "    #print(sample_input[0])\n",
    "    importance_dict[t_info] = (importances, sample_inputs)\n",
    "    if (i+1) % 100 == 0:\n",
    "        pd.to_pickle(importance_dict, f\"importances_inputs/importance_{i}.pkl\")        \n",
    "        del importance_dict\n",
    "        importance_dict = {}\n"
   ]
  },
  {
   "cell_type": "code",
   "execution_count": null,
   "id": "58302e19-744a-4df6-a94b-93f363b564bc",
   "metadata": {},
   "outputs": [],
   "source": [
    "keys = list(inputs_dict.keys())\n",
    "inputs_0 = inputs_dict[keys[0]]"
   ]
  },
  {
   "cell_type": "code",
   "execution_count": null,
   "id": "f6e7999e-b4c3-4775-99d2-de891968aed3",
   "metadata": {},
   "outputs": [],
   "source": [
    "keys"
   ]
  },
  {
   "cell_type": "code",
   "execution_count": null,
   "id": "f304b7ec-314a-4e9b-8081-11825d734ed9",
   "metadata": {},
   "outputs": [],
   "source": [
    "list(inputs_0.keys())"
   ]
  },
  {
   "cell_type": "code",
   "execution_count": null,
   "id": "c9c99bd0-b401-438a-a910-3bf4e559996d",
   "metadata": {},
   "outputs": [],
   "source": [
    "inputs_0[0]"
   ]
  },
  {
   "cell_type": "code",
   "execution_count": null,
   "id": "ecfa15f1-ad80-443d-b633-3bc685255cf1",
   "metadata": {},
   "outputs": [],
   "source": [
    "inputs_0[0].size()"
   ]
  },
  {
   "cell_type": "code",
   "execution_count": null,
   "id": "82af1c4c-3995-4da3-be79-cf855aaab574",
   "metadata": {},
   "outputs": [],
   "source": [
    "examples.size()"
   ]
  }
 ],
 "metadata": {
  "kernelspec": {
   "display_name": "Python 3",
   "language": "python",
   "name": "python3"
  },
  "language_info": {
   "codemirror_mode": {
    "name": "ipython",
    "version": 3
   },
   "file_extension": ".py",
   "mimetype": "text/x-python",
   "name": "python",
   "nbconvert_exporter": "python",
   "pygments_lexer": "ipython3",
   "version": "3.9.18"
  }
 },
 "nbformat": 4,
 "nbformat_minor": 5
}

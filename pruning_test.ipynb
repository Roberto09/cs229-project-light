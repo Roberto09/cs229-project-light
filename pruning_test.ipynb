{
 "cells": [
  {
   "cell_type": "code",
   "execution_count": 1,
   "metadata": {},
   "outputs": [
    {
     "name": "stderr",
     "output_type": "stream",
     "text": [
      "/home/daniel/miniconda3/lib/python3.11/site-packages/tqdm/auto.py:21: TqdmWarning: IProgress not found. Please update jupyter and ipywidgets. See https://ipywidgets.readthedocs.io/en/stable/user_install.html\n",
      "  from .autonotebook import tqdm as notebook_tqdm\n"
     ]
    }
   ],
   "source": [
    "import torch\n",
    "from transformers import AutoModelForCausalLM, AutoTokenizer, Trainer, TrainingArguments\n",
    "from trl import SFTTrainer\n",
    "import itertools\n",
    "import pandas as pd\n",
    "import os\n",
    "from dataset_preprocessing import TokenInfo\n",
    "import torch\n",
    "from tqdm import tqdm"
   ]
  },
  {
   "cell_type": "code",
   "execution_count": 2,
   "metadata": {},
   "outputs": [],
   "source": [
    "import os\n",
    "from os import listdir"
   ]
  },
  {
   "cell_type": "code",
   "execution_count": 3,
   "metadata": {},
   "outputs": [],
   "source": [
    "model_id = \"microsoft/phi-1_5\"\n",
    "model_revision = \"349cf8b5e81fd5f791d1740da5de1313a0419bbd\" # latest as of feb 1st"
   ]
  },
  {
   "cell_type": "code",
   "execution_count": 4,
   "metadata": {},
   "outputs": [
    {
     "name": "stderr",
     "output_type": "stream",
     "text": [
      "/home/daniel/miniconda3/lib/python3.11/site-packages/torch/_utils.py:831: UserWarning: TypedStorage is deprecated. It will be removed in the future and UntypedStorage will be the only storage class. This should only matter to you if you are using storages directly.  To access UntypedStorage directly, use tensor.untyped_storage() instead of tensor.storage()\n",
      "  return self.fget.__get__(instance, owner)()\n"
     ]
    }
   ],
   "source": [
    "model = AutoModelForCausalLM.from_pretrained(\n",
    "    model_id,\n",
    "    revision=model_revision,\n",
    "    trust_remote_code=True,\n",
    "    # be careful with this?\n",
    "    # torch_dtype=torch.float16,\n",
    "    # attn_implementation=\"flash_attention_2\",\n",
    ")"
   ]
  },
  {
   "cell_type": "code",
   "execution_count": 5,
   "metadata": {},
   "outputs": [],
   "source": [
    "def get_mlps(model):\n",
    "    layers = model.get_submodule(\"model\").get_submodule(\"layers\")\n",
    "    return [layer.get_submodule(\"mlp\") for layer in layers]\n",
    "\n",
    "mlps = get_mlps(model)"
   ]
  },
  {
   "cell_type": "code",
   "execution_count": 6,
   "metadata": {},
   "outputs": [],
   "source": [
    "def get_lm_prunner_style_importances(model):\n",
    "    mlps = get_mlps(model)\n",
    "    imps = {}\n",
    "    imps_list = pd.read_pickle(\"average_importances_sorvisto.pkl\")\n",
    "    for mlp, imp in zip(mlps, imps_list):\n",
    "        imps[mlp] = imp\n",
    "    return imps\n"
   ]
  },
  {
   "cell_type": "code",
   "execution_count": 7,
   "metadata": {},
   "outputs": [],
   "source": [
    "avg_imps = get_lm_prunner_style_importances(model)"
   ]
  },
  {
   "cell_type": "code",
   "execution_count": 8,
   "metadata": {},
   "outputs": [],
   "source": [
    "def get_avg_imporances(importances):\n",
    "    avg_imps = [torch.zeros_like(imp) for imp in list(importances.values())[0]]\n",
    "    for token, imps in tqdm(importances.items()):\n",
    "        for i, layer_imps in enumerate(imps):\n",
    "            avg_imps[i] += layer_imps / len(importances)\n",
    "    # TODO think harder about averaging method\n",
    "    return avg_imps"
   ]
  },
  {
   "cell_type": "code",
   "execution_count": 9,
   "metadata": {},
   "outputs": [],
   "source": [
    "import matplotlib.pyplot as plt\n",
    "\n",
    "@torch.no_grad()\n",
    "def pruning_magnitude_comparison(importances, prune_ratio):\n",
    "    \"\"\" Given a dictionary of mlp -> importance tensor, prunes\n",
    "    all the mlps holistically.\n",
    "    \"\"\"\n",
    "\n",
    "    # Concatenate all importance tensors\n",
    "    concat_imps = torch.cat(list(importances.values())).float()\n",
    "\n",
    "    num_prune_cells = int(len(concat_imps) * prune_ratio)\n",
    "\n",
    "    # Choose which node-indexes to prune, mark those indexes with '0'\n",
    "    _, indices_to_replace = torch.topk(concat_imps, num_prune_cells, largest=False)\n",
    "    concat_imps[indices_to_replace] = 0\n",
    "    \n",
    "    # Make a new dict with indexes with smallest values zeroed out\n",
    "    split_size = len(list(importances.values())[0])\n",
    "    pruned_tensors = torch.split(concat_imps, split_size)\n",
    "    pruned_tensors = [ten[ten != 0] for ten in pruned_tensors]\n",
    "\n",
    "    tensor_lengths = [len(tensor) for tensor in pruned_tensors]\n",
    "    # Plotting the histogram\n",
    "\n",
    "    x_labels = [str(i) for i in range(len(tensor_lengths))]\n",
    "\n",
    "    plt.figure(figsize=(10, 6))\n",
    "    plt.bar(x_labels, tensor_lengths)\n",
    "    plt.show()"
   ]
  },
  {
   "cell_type": "code",
   "execution_count": 10,
   "metadata": {},
   "outputs": [
    {
     "data": {
      "image/png": "[encoded data removed]",
      "text/plain": [
       "<Figure size 1000x600 with 1 Axes>"
      ]
     },
     "metadata": {},
     "output_type": "display_data"
    }
   ],
   "source": [
    "pruning_magnitude_comparison(avg_imps, 0.2)"
   ]
  },
  {
   "cell_type": "code",
   "execution_count": 11,
   "metadata": {},
   "outputs": [],
   "source": [
    "from prunners import prune_mlps_holistically"
   ]
  },
  {
   "cell_type": "code",
   "execution_count": 13,
   "metadata": {},
   "outputs": [],
   "source": [
    "prune_mlps_holistically(avg_imps, 0.2)"
   ]
  }
 ],
 "metadata": {
  "kernelspec": {
   "display_name": "base",
   "language": "python",
   "name": "python3"
  },
  "language_info": {
   "codemirror_mode": {
    "name": "ipython",
    "version": 3
   },
   "file_extension": ".py",
   "mimetype": "text/x-python",
   "name": "python",
   "nbconvert_exporter": "python",
   "pygments_lexer": "ipython3",
   "version": "3.11.5"
  }
 },
 "nbformat": 4,
 "nbformat_minor": 2
}
